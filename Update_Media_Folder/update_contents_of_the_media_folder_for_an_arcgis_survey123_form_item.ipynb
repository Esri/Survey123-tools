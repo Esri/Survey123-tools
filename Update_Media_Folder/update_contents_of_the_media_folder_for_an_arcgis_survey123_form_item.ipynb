{
 "cells": [
  {
   "cell_type": "markdown",
   "source": [
    "# Update contents of the media folder for an ArcGIS Survey123 form item"
   ],
   "metadata": {}
  },
  {
   "cell_type": "markdown",
   "source": [
    "<div class=\"alert alert-block alert-info\">This notebook uses the ArcGIS API for Python. For more information, see the <a href=\"https://developers.arcgis.com/python/\">ArcGIS API for Python documentation and guides</a>.</div>\n",
    "\n",
    "The media folder for a survey contains items used in various ArcGIS Survey123 questions and workflows. A survey's media folder can contain the following:\n",
    "- Offline basemaps for use in the ArcGIS Survey123 field app.\n",
    "- CSV files for use in `pulldata()` functions or for use as choice lists.\n",
    "- Image and audio files for use in various question types.\n",
    "\n",
    "This notebook demonstrates how you can automate the task of updating the contents of the media folder for a published survey without having to republish it in Survey123 Connect. This is useful when the items in the media folder need to be updated regularly.\n",
    "\n",
    "**IMPORTANT**: Care should be taken when running this script to ensure the files you are updating have the exact name as the files currently in the survey's media folder. Also, the files must be in the same format. In the case of CSV files, the updated files must have the same column names as the original files; only the data rows should be updated or additional rows appended. If you want to rename or add columns you should update the files in the survey's media folder in ArcGIS Survey123 Connect, update the XLSForm accordingly, and then republish the survey.\n",
    "\n",
    "It is recommended that you test the script on a copy of your survey prior to running it on your production survey. Ensure the test survey can be downloaded and updated in the Survey123 field app, checking that the external choice lists and any other media items are working as expected, before proceeding with your production survey.\n",
    "\n",
    "The first step is to import the required modules and define our variables. The variables are as follows: \n",
    "\n",
    "* **portalURL** - The URL for your ArcGIS organization (e.g. www.arcgis.com)\n",
    "* **username** - Your ArcGIS organization username (e.g. gisadmin)\n",
    "* **password** - You ArcGIS organization password (e.g. gisadmin1)\n",
    "* **itemID** - The item ID for the ArcGIS Survey123 form item in your ArcGIS organization (e.g. 89bc8c7844e548e09baa3aad4695e78b)\n",
    "* **updated_files** - The updated file name containing the extension (e.g. myphoto.png)\n",
    "* **source_loc** - Folder directory where the updated file is located (e.g. C:/Users/username/ArcGIS/My Survey Designs/...)"
   ],
   "metadata": {}
  },
  {
   "cell_type": "code",
   "execution_count": 1,
   "source": [
    "import arcgis\r\n",
    "from arcgis.gis import GIS\r\n",
    "import tempfile\r\n",
    "import zipfile\r\n",
    "import shutil\r\n",
    "import os\r\n",
    "\r\n",
    "portalURL = r'https://www.arcgis.com'\r\n",
    "username = ''\r\n",
    "password = ''\r\n",
    "itemID = 'c3318288b6254e1ebcd1f1dba70dc3e0'\r\n",
    "# Add one or more file names to the list.\r\n",
    "updated_files = ['employees.csv', 'locations.csv']\r\n",
    "source_loc = r'/arcgis/home/'"
   ],
   "outputs": [],
   "metadata": {}
  },
  {
   "cell_type": "markdown",
   "source": [
    "Uncomment the first GIS connection if using the `portalURL`, `username`, and `password` variables from above. "
   ],
   "metadata": {}
  },
  {
   "cell_type": "code",
   "execution_count": 2,
   "source": [
    "# Connect to GIS\r\n",
    "# gis = GIS(portalURL, username, password)\r\n",
    "gis = GIS(\"home\")"
   ],
   "outputs": [],
   "metadata": {}
  },
  {
   "cell_type": "markdown",
   "source": [
    "## Download survey\n",
    "\n",
    "Start by obtaining the properties of the Survey123 form item. These properties are used to reconstruct the ZIP file name that is uploaded. The first line in the code block below defines a Survey Manager. A survey in the Survey Manager is a single instance of a survey project that contains the item information and properties and provides access to the underlying survey dataset. For more information on Survey Manager, see the <a href=\"https://developers.arcgis.com/python/api-reference/arcgis.apps.survey123.html#arcgis.apps.survey123.SurveyManager\" target=\"_blank\">API Reference for the ArcGIS API for Python</a>."
   ],
   "metadata": {}
  },
  {
   "cell_type": "code",
   "execution_count": 3,
   "source": [
    "survey_manager = arcgis.apps.survey123.SurveyManager(gis)\r\n",
    "surveyId = survey_manager.get(itemID)\r\n",
    "surveyProp = surveyId.properties\r\n",
    "print(surveyProp)"
   ],
   "outputs": [
    {
     "output_type": "stream",
     "name": "stdout",
     "text": [
      "{'id': 'c3318288b6254e1ebcd1f1dba70dc3e0', 'owner': 'NinjaGreen', 'created': 1612817471000, 'isOrgItem': True, 'modified': 1617393961000, 'guid': None, 'name': 'EmployeeForm.zip', 'title': 'EmployeeForm', 'type': 'Form', 'typeKeywords': ['Form', 'Survey123', 'Survey123 Connect', 'xForm'], 'description': 'This template includes all XLSForm features supported in ArcGIS Survey123.', 'tags': [], 'snippet': '', 'thumbnail': 'thumbnail/EmployeeForm.png', 'documentation': None, 'extent': [], 'categories': [], 'spatialReference': None, 'accessInformation': None, 'licenseInfo': None, 'culture': 'en-us', 'properties': None, 'url': None, 'proxyFilter': None, 'access': 'private', 'size': 51654, 'subInfo': 0, 'appCategories': [], 'industries': [], 'languages': [], 'largeThumbnail': None, 'banner': None, 'screenshots': [], 'listed': False, 'ownerFolder': '60384ef99a694dccb4fda1f2d9d46b47', 'protected': False, 'commentsEnabled': True, 'numComments': 0, 'numRatings': 0, 'avgRating': 0, 'numViews': 24, 'itemControl': 'admin', 'scoreCompleteness': 25, 'groupDesignations': None}\n"
     ]
    }
   ],
   "metadata": {}
  },
  {
   "cell_type": "markdown",
   "source": [
    "Find the form item in the `gis` and download as a ZIP file to a temporary folder directory. Additional information on downloading content can be found <a href=\"https://developers.arcgis.com/python/api-reference/arcgis.gis.toc.html?item#arcgis.gis.Item.download\" target=\"_blank\">here</a>."
   ],
   "metadata": {}
  },
  {
   "cell_type": "code",
   "execution_count": 4,
   "source": [
    "itm = arcgis.gis.Item(gis,itemID)\n",
    "print(itm)\n",
    "tmpdir = tempfile.TemporaryDirectory()\n",
    "download_folder = tmpdir.name\n",
    "savedZip = itm.download(save_path=download_folder)"
   ],
   "outputs": [
    {
     "output_type": "stream",
     "name": "stdout",
     "text": [
      "<Item title:\"EmployeeForm\" type:Form owner:NinjaGreen>\n"
     ]
    }
   ],
   "metadata": {}
  },
  {
   "cell_type": "markdown",
   "source": [
    "Extract the ZIP file to an *`_extracted`* folder in the download location. This *`_extracted`* folder is where the updated media files will be copied and rezipped later on. "
   ],
   "metadata": {}
  },
  {
   "cell_type": "code",
   "execution_count": 5,
   "source": [
    "def extractZIP(filename,folder):\n",
    "    zfile = zipfile.ZipFile(filename)\n",
    "    zfile.extractall(folder)\n",
    "\n",
    "extractZIP(savedZip, os.path.join(download_folder + \"/_extracted/\"))\n"
   ],
   "outputs": [],
   "metadata": {}
  },
  {
   "cell_type": "markdown",
   "source": [
    "Copy the updated file to the media folder, replacing the old file. "
   ],
   "metadata": {}
  },
  {
   "cell_type": "code",
   "execution_count": 6,
   "source": [
    "for file in updated_files:\n",
    "    source_file = os.path.join(source_loc, file)\n",
    "    dest_file = download_folder + \"/_extracted/esriinfo/media/\" + file\n",
    "    shutil.copyfile(source_file, dest_file)\n",
    "    print (file, \" updated to: \", download_folder + \"/_extracted/esriinfo/media/\")"
   ],
   "outputs": [
    {
     "output_type": "stream",
     "name": "stdout",
     "text": [
      "employees.csv  updated to:  /tmp/tmpkxv1hpzo/_extracted/esriinfo/media/\n",
      "locations.csv  updated to:  /tmp/tmpkxv1hpzo/_extracted/esriinfo/media/\n"
     ]
    }
   ],
   "metadata": {}
  },
  {
   "cell_type": "markdown",
   "source": [
    "Delete the ZIP file you downloaded previously. This will prevent any namespace issues and ensure the process of zipping and uploading the updated survey goes smoothly. "
   ],
   "metadata": {}
  },
  {
   "cell_type": "code",
   "execution_count": 7,
   "source": [
    "os.remove(savedZip)\n",
    "print (\"Old ZIP file deleted from: \" + download_folder)"
   ],
   "outputs": [
    {
     "output_type": "stream",
     "name": "stdout",
     "text": [
      "Old zip file deleted from: /tmp/tmpkxv1hpzo\n"
     ]
    }
   ],
   "metadata": {}
  },
  {
   "cell_type": "markdown",
   "source": [
    "## Upload updated survey\n",
    "\n",
    "Zip the updated survey and place it in the download folder you defined previously. \"The code below extracts the survey title from the survey properties and passes it into the file name for the ZIP file."
   ],
   "metadata": {}
  },
  {
   "cell_type": "code",
   "execution_count": 8,
   "source": [
    "zipFileName = surveyProp['title']\n",
    "updateZip = shutil.make_archive(zipFileName, 'zip', download_folder + '/_extracted/')\n",
    "print (updateZip)"
   ],
   "outputs": [
    {
     "output_type": "stream",
     "name": "stdout",
     "text": [
      "/arcgis/EmployeeForm.zip\n"
     ]
    }
   ],
   "metadata": {}
  },
  {
   "cell_type": "markdown",
   "source": [
    "Upload the new ZIP file and update the form item with the new media folder content. For more information on the update property of items please visit <a href=\"https://developers.arcgis.com/python/api-reference/arcgis.gis.toc.html?item#arcgis.gis.Item.update\" target=\"_blank\">this link</a>."
   ],
   "metadata": {}
  },
  {
   "cell_type": "code",
   "execution_count": 9,
   "source": [
    "itm.update({},updateZip)"
   ],
   "outputs": [
    {
     "output_type": "execute_result",
     "data": {
      "text/plain": [
       "True"
      ]
     },
     "metadata": {},
     "execution_count": 9
    }
   ],
   "metadata": {}
  },
  {
   "cell_type": "markdown",
   "source": [
    "Clean up the intermediate data. This process deletes the updated ZIP file as well as the extracted folder containing the unzipped survey content."
   ],
   "metadata": {}
  },
  {
   "cell_type": "code",
   "execution_count": 10,
   "source": [
    "tmpdir.cleanup()\n",
    "print (\"Temp folder deleted from: \" + download_folder)\n",
    "# print (zipFileName + \" successfully updated with \" + source_file + \" and uploaded to your organization!\")\n",
    "print (zipFileName + \" successfully updated with \" + ' & '.join(map(str, updated_files)) + \" and uploaded to your organization!\")"
   ],
   "outputs": [
    {
     "output_type": "stream",
     "name": "stdout",
     "text": [
      "Temp folder deleted from: /tmp/tmpkxv1hpzo\n",
      "EmployeeForm successfully updated with employees.csv & locations.csv and uploaded to your organization!\n"
     ]
    }
   ],
   "metadata": {}
  }
 ],
 "metadata": {
  "kernelspec": {
   "display_name": "Python 3",
   "language": "python",
   "name": "python3"
  },
  "language_info": {
   "codemirror_mode": {
    "name": "ipython",
    "version": 3
   },
   "file_extension": ".py",
   "mimetype": "text/x-python",
   "name": "python",
   "nbconvert_exporter": "python",
   "pygments_lexer": "ipython3",
   "version": "3.7.9"
  }
 },
 "nbformat": 4,
 "nbformat_minor": 4
}