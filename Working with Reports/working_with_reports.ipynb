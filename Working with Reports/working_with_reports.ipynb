{
 "cells": [
  {
   "cell_type": "markdown",
   "metadata": {},
   "source": [
    "# Working with ArcGIS Survey123 reports using the ArcGIS API for Python"
   ]
  },
  {
   "cell_type": "markdown",
   "metadata": {},
   "source": [
    "<div class=\"alert alert-block alert-info\">This notebook uses the ArcGIS API for Python. For more information, see the <a href=\"https://developers.arcgis.com/python/\">ArcGIS API for Python documentation and guides</a>.</div>\n",
    "\n",
    "ArcGIS Survey123 reports are an effective way to quickly visualize, interpret, and share survey responses. Reports use a template you can personalize, that's applied to your survey results and shared as either a Microsoft Word or PDF document. \n",
    "\n",
    "It's common to deploy a <a href=\"https://doc.arcgis.com/en/survey123/browser/create-surveys/webhooks.htm\" target=\"_blank\">webhook</a> as an automated process to create and share reports with survey results. Although, using a third party webhook provider may not be a feasible workflow due to organizational or security policies. This is where the ArcGIS Survey123 module in the ArcGIS API for Python can be used to acheive a similar goal.\n",
    "\n",
    "This sample notebook demonstrates ways you can use the ArcGIS Survey123 module to work with reports and covers the following functionality: \n",
    "\n",
    "* <a href=\"#generate-default-template\">Generate a default report template</a>\n",
    "* <a href=\"#identify-report-templates\">Identify report templates associated with a survey</a>\n",
    "* <a href=\"#generate-a-single-report\">Generate a single report</a>\n",
    "* <a href=\"#generate-multiple-reports\">Generate multiple reports</a>\n",
    "* <a href=\"#generate-multiple-reports-org\">Generate multiple reports and save to your organization</a>\n",
    "* <a href=\"#list-saved-reports\">List saved reports</a>\n",
    "\n",
    "The first step is to connect to your GIS."
   ]
  },
  {
   "cell_type": "code",
   "execution_count": 1,
   "metadata": {},
   "outputs": [],
   "source": [
    "import arcgis\n",
    "from arcgis.gis import GIS\n",
    "gis = GIS(\"home\")"
   ]
  },
  {
   "cell_type": "markdown",
   "metadata": {},
   "source": [
    "Next, a Survey Manager is defined, and a survey is accessed using the form's item ID. A survey in the Survey Manager is a single instance of a survey project that contains the item information and properties and provides access to the underlying survey dataset. For more information on Survey Manager, see the <a href=\"https://developers.arcgis.com/python/api-reference/arcgis.apps.survey123.html#arcgis.apps.survey123.SurveyManager\" target=\"_blank\">API Reference for the ArcGIS API for Python</a>."
   ]
  },
  {
   "cell_type": "code",
   "execution_count": 2,
   "metadata": {},
   "outputs": [
    {
     "name": "stdout",
     "output_type": "stream",
     "text": [
      "<Survey @ Water Quality Inspection>\n"
     ]
    }
   ],
   "source": [
    "survey_manager = arcgis.apps.survey123.SurveyManager(gis)\n",
    "survey_by_id = survey_manager.get(\"9f01838a15594cfdbb2eb69fafb60d75\")\n",
    "print(survey_by_id)"
   ]
  },
  {
   "cell_type": "markdown",
   "metadata": {},
   "source": [
    "<a id='identify-report-templates'></a>\n",
    "### Identify report templates associated with a survey\n",
    "\n",
    "Using the `report_templates` method any report template already associated with the survey will be returned in a list. For each template in the list the title is printed using the print statement below. "
   ]
  },
  {
   "cell_type": "code",
   "execution_count": 3,
   "metadata": {},
   "outputs": [
    {
     "name": "stdout",
     "output_type": "stream",
     "text": [
      "Water Quality Inspection_sampleTemplate\n"
     ]
    }
   ],
   "source": [
    "templates = survey_by_id.report_templates\n",
    "p = [print(t.title) for t in templates]"
   ]
  },
  {
   "cell_type": "markdown",
   "metadata": {},
   "source": [
    "<a id='generate-default-template'></a>\n",
    "### Generating a default report template\n",
    "\n",
    "In the case where there are not any report templates associated with the survey, a default template can be generated using the `create_report_template` method. The `create_report_template` method creates a simple default template automatically downloads it to the `Temp` folder. The ArcGIS Survey123 module does not support uploading a new report template."
   ]
  },
  {
   "cell_type": "code",
   "execution_count": 4,
   "metadata": {},
   "outputs": [
    {
     "name": "stdout",
     "output_type": "stream",
     "text": [
      "/tmp/template.docx\n"
     ]
    }
   ],
   "source": [
    "new_template = survey_by_id.create_report_template()\n",
    "print(new_template)"
   ]
  },
  {
   "cell_type": "markdown",
   "metadata": {},
   "source": [
    "<a id='generate-a-single-report'></a>\n",
    "### Generate a single report\n",
    "\n",
    "Use the `generate_report` method to generate a single report by specifying a single object ID in the `where` parameter. Since there was only one report template associated with the survey the index of 0 is used. \n",
    "\n",
    "The `where` clause follows the same format as the `where` parameter when <a href=\"https://developers.arcgis.com/rest/services-reference/query-feature-service-layer-.htm\" target=\"_blank\">querying a feature service layer</a>.  "
   ]
  },
  {
   "cell_type": "code",
   "execution_count": 5,
   "metadata": {},
   "outputs": [
    {
     "name": "stdout",
     "output_type": "stream",
     "text": [
      "/tmp/Water_Quality_Inspection_report_e68c44.docx\n"
     ]
    }
   ],
   "source": [
    "report = survey_by_id.generate_report(templates[0], where=\"objectid=122\")\n",
    "print(report)"
   ]
  },
  {
   "cell_type": "markdown",
   "metadata": {},
   "source": [
    "<a id='generate-multiple-reports'></a>\n",
    "### Generate multiple reports\n",
    "\n",
    "If you are looking to generate reports for multiple object IDs in the survey you can specify `\"objectid=1 OR objectid=2\"` to generate reports for those two features. Alternatively, omitting the `where` clause will result in reports created for all features in the feature service. In either scenario the output is saved as a ZIP file, and will be stored locally on disk if run through a Jupyter Notebook. "
   ]
  },
  {
   "cell_type": "code",
   "execution_count": 6,
   "metadata": {},
   "outputs": [
    {
     "name": "stdout",
     "output_type": "stream",
     "text": [
      "/tmp/Water_Quality_Inspection_report_7a8ea1.zip\n"
     ]
    }
   ],
   "source": [
    "batch_reports = survey_by_id.generate_report(templates[0])\n",
    "print(batch_reports)"
   ]
  },
  {
   "cell_type": "markdown",
   "metadata": {},
   "source": [
    "<a id='generate-multiple-reports-org'></a>\n",
    "### Generate multiple reports and save to your organization as an item\n",
    "\n",
    "To generate reports and save them in your ArcGIS organization content, add the `report_title` argument. By specifying a `report_title` the reports are saved in your content as a code sample, which is available for download as a ZIP and viewed on a desktop.\n",
    "\n",
    "<div class=\"alert alert-block alert-danger\">This parameter is required in order to upload your report to your organization. However, the name of your report or code sample will default to <b>survey_name_report_unique_ID</b></a>.</div>\n",
    "\n",
    "The code sample can then be shared to a group or publicly so that others can download the ZIP and view the reports."
   ]
  },
  {
   "cell_type": "code",
   "execution_count": 7,
   "metadata": {},
   "outputs": [
    {
     "name": "stdout",
     "output_type": "stream",
     "text": [
      "<Item title:\"Water_Quality_Inspection_report_928f8a\" type:Code Sample owner:NinjaGreen>\n"
     ]
    }
   ],
   "source": [
    "import datetime\n",
    "nowstring = datetime.datetime.now().strftime(\"%Y%m%d%H%M%S\")\n",
    "batch_reports = survey_by_id.generate_report(templates[0], report_title=\"Test_{0}\".format(nowstring))\n",
    "print(batch_reports)"
   ]
  },
  {
   "cell_type": "markdown",
   "metadata": {},
   "source": [
    "<a id='list-saved-reports'></a>\n",
    "### List saved reports\n",
    "\n",
    "Finally, use the `reports` property to list the reports stored in the ArcGIS organizational account from the current GIS connection. This shows all reports that are saved in that named user's content."
   ]
  },
  {
   "cell_type": "code",
   "execution_count": 8,
   "metadata": {},
   "outputs": [
    {
     "name": "stdout",
     "output_type": "stream",
     "text": [
      "Manhole_Inspection_report_7844e0\n",
      "Tree_Health_Survey_statistic.docx\n",
      "Tree Health Survey - Summary table\n",
      "Tree_Health_Survey_sampleTemplate_summarytest1.docx\n",
      "Test_summary1\n",
      "UC2020 Hydrants Maintenance_OID_summary1\n"
     ]
    }
   ],
   "source": [
    "recentReports = survey_by_id.reports\n",
    "p = [print(t.title) for t in recentReports]"
   ]
  }
 ],
 "metadata": {
  "kernelspec": {
   "display_name": "Python 3",
   "language": "python",
   "name": "python3"
  },
  "language_info": {
   "codemirror_mode": {
    "name": "ipython",
    "version": 3
   },
   "file_extension": ".py",
   "mimetype": "text/x-python",
   "name": "python",
   "nbconvert_exporter": "python",
   "pygments_lexer": "ipython3",
   "version": "3.7.9"
  }
 },
 "nbformat": 4,
 "nbformat_minor": 4
}
