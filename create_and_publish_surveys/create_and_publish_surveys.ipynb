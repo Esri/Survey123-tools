{
 "cells": [
  {
   "cell_type": "markdown",
   "metadata": {},
   "source": [
    "# Create and publish surveys using ArcGIS API for Python"
   ]
  },
  {
   "cell_type": "markdown",
   "metadata": {},
   "source": [
    "<div class=\"alert alert-block alert-info\">This notebook uses the ArcGIS API for Python. For more information, see the <a href=\"https://developers.arcgis.com/python/\">ArcGIS API for Python documentation and guides</a>.</div>"
   ]
  },
  {
   "cell_type": "markdown",
   "metadata": {},
   "source": [
    " The `create()` method is useful for batch creating blank surveys for which you can reassign ownership to another colleague to complete the design and publish. If you already have an XLSForm, you can use the `create()` and `publish()` methods to automate creating and publishing surveys.\n",
    "\n",
    " This sample notebook demonstrates how you can automate creating and publishing surveys using ArcGIS API for Python."
   ]
  },
  {
   "cell_type": "markdown",
   "metadata": {},
   "source": [
    "## Create a survey\n",
    "\n",
    "You can create surveys using ArcGIS API for Python with the `create()` method. The `create()` method creates an empty form item and hosted feature service in the folder supplied to the method or a new folder created with the survey. The output of the `create()` method is a single <a href=\"https://developers.arcgis.com/python/api-reference/arcgis.apps.survey123.html#arcgis.apps.survey123.Survey\">`Survey`</a> object. \n",
    "\n",
    "Surveys created by the `create()` method create the equivalent of a new unpublished web designer survey. After creating a survey with ArcGIS API for Python, if you don't have an XLSForm or existing survey design, you can use the <a href=\"https://doc.arcgis.com/en/survey123/browser/create-surveys/publishsurvey.htm\">Survey123 web designer</a> to design and publish your survey. \n",
    "\n",
    "The first step is to connect to your GIS."
   ]
  },
  {
   "cell_type": "code",
   "execution_count": null,
   "metadata": {},
   "outputs": [],
   "source": [
    "import arcgis\n",
    "from arcgis.gis import GIS\n",
    "gis = GIS(\"home\")"
   ]
  },
  {
   "cell_type": "markdown",
   "metadata": {},
   "source": [
    "Next, a `SurveyManager` is defined, and a new survey is created. A survey in the Survey Manager is a single instance of a survey project that contains the item information and properties and provides access to the underlying survey dataset. For more information on Survey Manager, see the <a href=\"https://developers.arcgis.com/python/api-reference/arcgis.apps.survey123.html#arcgis.apps.survey123.SurveyManager\" target=\"_blank\">API Reference for the ArcGIS API for Python</a>.\n",
    "\n",
    "To create a survey, use the `create()` method on a `SurveyManager` instance. \n",
    "\n",
    "The `create()` method only requires the `title` parameter. By default, the `create()` method will automatically create a folder using the `Survey-{title}` naming convention consistent with other Survey123 publishing apps. Alternatively, if you want to store your survey in a folder that already exists in your content, you can use the `folder` parameter and specify the name or folder ID. "
   ]
  },
  {
   "cell_type": "code",
   "execution_count": null,
   "metadata": {},
   "outputs": [],
   "source": [
    "survey_manager = arcgis.apps.survey123.SurveyManager(gis)\n",
    "new_survey = survey_manager.create(\n",
    "    title = \"Water Quality Survey\",\n",
    "    folder = \"Water surveys\",\n",
    "    tags = \"Water surveys, Survey123, Python\",\n",
    "    summary = \"City of Cilantro water quality survey.\",\n",
    "    description = \"This survey is used by the City of Cilantro to measure and record water quality at various locations around the city.\", \n",
    "    thumbnail = r\"C:\\thumbnail.png\"\n",
    ")\n",
    "\n",
    "new_survey"
   ]
  },
  {
   "cell_type": "markdown",
   "metadata": {},
   "source": [
    "The result of the `create()` method is a <a href=\"https://developers.arcgis.com/python/api-reference/arcgis.apps.survey123.html#survey\" target=\"_blank\">Survey</a> object. At this stage, the survey is in a draft state and has no schema or questions. You can use the Survey123 web designer to design your survey and publish from there, use the `publish()` method with an existing XLSForm design, or use a third-party Python package to design your survey directly in Python and call the `publish()` method. "
   ]
  },
  {
   "cell_type": "markdown",
   "metadata": {},
   "source": [
    "## Publish a survey\n",
    "\n",
    "To publish a survey using the `publish()` method, an existing `Survey` object is required. The `Survey` can be an unpublished survey created by the `create()` method or an existing published survey in your content. It can also be an unpublished blank survey created with the Survey123 web designer (any designs will be overwritten by the `publish()` method's required XLSForm.). \n",
    "\n",
    "When publishing surveys with the `publish()` method, important considerations are as follows:\n",
    "\n",
    "- Any survey is treated as a survey published with Survey123 Connect, which means you can no longer use the web designer to edit the portions of the survey that are managed by the XLSForm. For example, the survey title and survey questions cannot be edited. Themes, webhooks, and sharing options can still be edited in the web designer. \n",
    "- New surveys will create and use a `_form` view as the submission endpoint, which means you can no longer update the feature service schema in Survey123 Connect. \n",
    "- Existing surveys will maintain their submission endpoint.\n",
    "\n",
    "A `schema_changes` parameter is available to modify the schema of your submission endpoint. For more information on the `schema_changes` parameter please see the <a href=\"https://developers.arcgis.com/python/api-reference/arcgis.apps.survey123.html#arcgis.apps.survey123.Survey.publish\" target=\"_blank\">ArcGIS API for Python</a> documentation.\n",
    "\n",
    "In this example, the required `xlsform` parameter is set to the path where the XLSForm is located and optional parameters are set: \n",
    "\n",
    "- `info` is set to enable the Inbox.\n",
    "- `enable_delete_protection` is enabled for the form item and its related content. "
   ]
  },
  {
   "cell_type": "code",
   "execution_count": null,
   "metadata": {},
   "outputs": [],
   "source": [
    "published_survey = new_survey.publish(\n",
    "    xlsform=r\"C:\\water_quality_survey.xlsx\", \n",
    "    info=\n",
    "        {\"queryInfo\": {\n",
    "            \"mode\": \"manual\",\n",
    "            \"editEnabled\": True,\n",
    "            \"copyEnabled\": False\n",
    "            }\n",
    "        }, \n",
    "    enable_delete_protection=True\n",
    "    )\n",
    "\n",
    "published_survey"
   ]
  }
 ],
 "metadata": {
  "esriNotebookRuntime": {
   "notebookRuntimeName": "ArcGIS Notebook Python 3 Standard",
   "notebookRuntimeVersion": "4.0"
  },
  "kernelspec": {
   "display_name": "Python 3",
   "language": "python",
   "name": "python3"
  },
  "language_info": {
   "codemirror_mode": {
    "name": "ipython",
    "version": 3
   },
   "file_extension": ".py",
   "mimetype": "text/x-python",
   "name": "python",
   "nbconvert_exporter": "python",
   "pygments_lexer": "ipython3",
   "version": "3.9.11"
  }
 },
 "nbformat": 4,
 "nbformat_minor": 4
}
