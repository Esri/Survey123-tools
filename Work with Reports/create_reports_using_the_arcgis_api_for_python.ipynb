{
 "cells": [
  {
   "cell_type": "markdown",
   "source": [
    "# Create reports using the ArcGIS API for Python"
   ],
   "metadata": {}
  },
  {
   "cell_type": "markdown",
   "source": [
    "<div class=\"alert alert-block alert-info\">This notebook uses the ArcGIS API for Python. For more information, see the <a href=\"https://developers.arcgis.com/python/\" target=_blank>ArcGIS API for Python documentation and guides</a>.</div>\r\n",
    "\r\n",
    "ArcGIS Survey123 reports are an effective way to quickly visualize, interpret, and share survey responses. Reports use a template you can personalize, that's applied to your survey results and shared as either a Microsoft Word or PDF document. \r\n",
    "\r\n",
    "It's common to deploy a <a href=\"https://doc.arcgis.com/en/survey123/browser/create-surveys/webhooks.htm\" target=\"_blank\">webhook</a> as an automated process to create and share reports with survey results. Although, you may want to automate this process over a specified time frame. For example you may the past week, month or quarter. This is where the ArcGIS Survey123 module in the ArcGIS API for Python can be used to acheive a similar goal. \r\n",
    "\r\n",
    "This sample notebook demonstrates ways you can use the ArcGIS Survey123 module to work with reports and covers the following functionality: \r\n",
    "\r\n",
    "* <a href=\"#generate-default-template\">Generate a default report template</a>\r\n",
    "* <a href=\"#identify-report-templates\">Identify report templates associated with a survey</a>\r\n",
    "* <a href=\"#generate-a-single-report\">Generate a single report</a>\r\n",
    "* <a href=\"#generate-multiple-reports\">Generate multiple reports</a>\r\n",
    "* <a href=\"#generate-multiple-reports-org\">Generate multiple reports and save to your organization</a>\r\n",
    "* <a href=\"#list-saved-reports\">List saved reports</a>\r\n",
    "\r\n",
    "<div class=\"alert alert-block alert-warning\">The Survey123 report service is an ArcGIS Online Premium service. It takes 0.5 credits per survey report generated. For more information, see the <a href=\"https://doc.arcgis.com/en/arcgis-online/administer/credits.htm\" target=_blank>Understand credits documentation</a>.</div>\r\n",
    "\r\n",
    "The first step is to connect to your GIS."
   ],
   "metadata": {}
  },
  {
   "cell_type": "code",
   "execution_count": 1,
   "source": [
    "import arcgis\r\n",
    "from arcgis.gis import GIS\r\n",
    "gis = GIS(\"home\")"
   ],
   "outputs": [],
   "metadata": {}
  },
  {
   "cell_type": "markdown",
   "source": [
    "Next, a Survey Manager is defined, and a survey is accessed using the form's item ID. A survey in the Survey Manager is a single instance of a survey project that contains the item information and properties and provides access to the underlying survey dataset. For more information on Survey Manager, see the <a href=\"https://developers.arcgis.com/python/api-reference/arcgis.apps.survey123.html#arcgis.apps.survey123.SurveyManager\" target=\"_blank\">API Reference for the ArcGIS API for Python</a>."
   ],
   "metadata": {}
  },
  {
   "cell_type": "code",
   "execution_count": 2,
   "source": [
    "survey_manager = arcgis.apps.survey123.SurveyManager(gis)\r\n",
    "survey_by_id = survey_manager.get(\"9f01838a15594cfdbb2eb69fafb60d75\")\r\n",
    "print(survey_by_id)"
   ],
   "outputs": [
    {
     "output_type": "stream",
     "name": "stdout",
     "text": [
      "<Survey @ Water Quality Inspection>\n"
     ]
    }
   ],
   "metadata": {}
  },
  {
   "cell_type": "markdown",
   "source": [
    "<a id='identify-report-templates'></a>\n",
    "### Identify report templates associated with a survey\n",
    "\n",
    "Using the `report_templates` method any report template already associated with the survey will be returned in a list. For each template in the list the title is printed using the print statement below. "
   ],
   "metadata": {}
  },
  {
   "cell_type": "code",
   "execution_count": 3,
   "source": [
    "templates = survey_by_id.report_templates\r\n",
    "p = [print(t.title) for t in templates]"
   ],
   "outputs": [
    {
     "output_type": "stream",
     "name": "stdout",
     "text": [
      "Water Quality Inspection_sampleTemplate\n"
     ]
    }
   ],
   "metadata": {}
  },
  {
   "cell_type": "markdown",
   "source": [
    "<a id='generate-default-template'></a>\n",
    "### Generating a default report template\n",
    "\n",
    "In the case where there are not any report templates associated with the survey, a default template can be generated using the `create_report_template` method. The `create_report_template` method creates a simple default template automatically downloads it to the `Temp` folder. The ArcGIS Survey123 module does not support uploading a new report template."
   ],
   "metadata": {}
  },
  {
   "cell_type": "code",
   "execution_count": 4,
   "source": [
    "new_template = survey_by_id.create_report_template()\r\n",
    "print(new_template)"
   ],
   "outputs": [
    {
     "output_type": "stream",
     "name": "stdout",
     "text": [
      "/tmp/template.docx\n"
     ]
    }
   ],
   "metadata": {}
  },
  {
   "cell_type": "markdown",
   "source": [
    "<a id='generate-a-single-report'></a>\n",
    "### Generate a single report\n",
    "\n",
    "Use the `generate_report` method to generate a single report by specifying a single object ID in the `where` parameter. Since there was only one report template associated with the survey the index of 0 is used. \n",
    "\n",
    "The `where` clause follows the same format as the `where` parameter when <a href=\"https://developers.arcgis.com/rest/services-reference/query-feature-service-layer-.htm\" target=\"_blank\">querying a feature service layer</a>.  "
   ],
   "metadata": {}
  },
  {
   "cell_type": "code",
   "execution_count": 5,
   "source": [
    "report = survey_by_id.generate_report(templates[0], where=\"objectid=122\")\r\n",
    "print(report)"
   ],
   "outputs": [
    {
     "output_type": "stream",
     "name": "stdout",
     "text": [
      "/tmp/Water_Quality_Inspection_report_e68c44.docx\n"
     ]
    }
   ],
   "metadata": {}
  },
  {
   "cell_type": "markdown",
   "source": [
    "<a id='generate-multiple-reports'></a>\n",
    "### Generate multiple reports\n",
    "\n",
    "If you are looking to generate reports for multiple object IDs in the survey you can specify `\"objectid=1 OR objectid=2\"` to generate reports for those two features. Alternatively, omitting the `where` clause will result in reports created for all features in the feature service. In either scenario the output is saved as a ZIP file, and will be stored locally on disk if run through a Jupyter Notebook. "
   ],
   "metadata": {}
  },
  {
   "cell_type": "code",
   "execution_count": 6,
   "source": [
    "batch_reports = survey_by_id.generate_report(templates[0])\r\n",
    "print(batch_reports)"
   ],
   "outputs": [
    {
     "output_type": "stream",
     "name": "stdout",
     "text": [
      "/tmp/Water_Quality_Inspection_report_7a8ea1.zip\n"
     ]
    }
   ],
   "metadata": {}
  },
  {
   "cell_type": "markdown",
   "source": [
    "<a id='generate-multiple-reports-org'></a>\n",
    "### Generate multiple reports and save to your organization as an item\n",
    "\n",
    "To generate reports and save them in your ArcGIS organization content, add the `report_title` argument. By specifying a `report_title` the reports are saved in your content as a code sample, which is available for download as a ZIP and viewed on a desktop.\n",
    "\n",
    "<div class=\"alert alert-block alert-danger\">This parameter is required in order to upload your report to your organization. However, the name of your report or code sample will default to <b>survey_name_report_unique_ID</b></a>.</div>\n",
    "\n",
    "The code sample can then be shared to a group or publicly so that others can download the ZIP and view the reports."
   ],
   "metadata": {}
  },
  {
   "cell_type": "code",
   "execution_count": 7,
   "source": [
    "import datetime\r\n",
    "nowstring = datetime.datetime.now().strftime(\"%Y%m%d%H%M%S\")\r\n",
    "batch_reports = survey_by_id.generate_report(templates[0], report_title=\"Test_{0}\".format(nowstring))\r\n",
    "print(batch_reports)"
   ],
   "outputs": [
    {
     "output_type": "stream",
     "name": "stdout",
     "text": [
      "<Item title:\"Water_Quality_Inspection_report_928f8a\" type:Code Sample owner:NinjaGreen>\n"
     ]
    }
   ],
   "metadata": {}
  },
  {
   "cell_type": "markdown",
   "source": [
    "<a id='list-saved-reports'></a>\n",
    "### List saved reports\n",
    "\n",
    "Finally, use the `reports` property to list the reports stored in the ArcGIS organizational account from the current GIS connection. This shows all reports that are saved in that named user's content."
   ],
   "metadata": {}
  },
  {
   "cell_type": "code",
   "execution_count": 8,
   "source": [
    "recentReports = survey_by_id.reports\r\n",
    "p = [print(t.title) for t in recentReports]"
   ],
   "outputs": [
    {
     "output_type": "stream",
     "name": "stdout",
     "text": [
      "Manhole_Inspection_report_7844e0\n",
      "Tree_Health_Survey_statistic.docx\n",
      "Tree Health Survey - Summary table\n",
      "Tree_Health_Survey_sampleTemplate_summarytest1.docx\n",
      "Test_summary1\n",
      "UC2020 Hydrants Maintenance_OID_summary1\n"
     ]
    }
   ],
   "metadata": {}
  }
 ],
 "metadata": {
  "kernelspec": {
   "display_name": "Python 3",
   "language": "python",
   "name": "python3"
  },
  "language_info": {
   "codemirror_mode": {
    "name": "ipython",
    "version": 3
   },
   "file_extension": ".py",
   "mimetype": "text/x-python",
   "name": "python",
   "nbconvert_exporter": "python",
   "pygments_lexer": "ipython3",
   "version": "3.7.9"
  }
 },
 "nbformat": 4,
 "nbformat_minor": 4
}