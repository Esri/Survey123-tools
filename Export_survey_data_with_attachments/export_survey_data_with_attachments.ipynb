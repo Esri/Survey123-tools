{
 "cells": [
  {
   "cell_type": "markdown",
   "id": "7a0070a8",
   "metadata": {},
   "source": [
    "# Export survey data with attachments"
   ]
  },
  {
   "cell_type": "markdown",
   "id": "8242780a",
   "metadata": {},
   "source": [
    "<div class=\"alert alert-block alert-info\">This notebook uses the ArcGIS API for Python. For more information, see the <a href=\"https://developers.arcgis.com/python/\">ArcGIS API for Python documentation and guides</a>.</div>"
   ]
  },
  {
   "cell_type": "markdown",
   "id": "5598e384",
   "metadata": {},
   "source": [
    "A common ArcGIS Survey123 workflow is to export survey data as a `.xlsx` file and work with that data in other software. A limitation of exporting data from your ArcGIS organization in Microsoft Excel format is that the attachments are not included. The only way to include attachments when exporting a dataset from the Survey123 website, ArcGIS Online, or ArcGIS Enterprise is to export it as a file geodatabase, but this method still requires additional work to extract the attachments.\n",
    "\n",
    "Fortunately, you can use the ArcGIS API for Python to export your survey data in XLSX format and save any attachments to your computer.\n",
    "\n",
    "This notebook will export your survey results as a `.xlsx` file, download all attachments associated with the data into folders unique to the parent layer or table, and create additional CSV files that map which parent object ID corresponds to which attachment file path."
   ]
  },
  {
   "cell_type": "code",
   "execution_count": 38,
   "id": "5562c94b",
   "metadata": {},
   "outputs": [],
   "source": [
    "import arcgis\n",
    "from arcgis.gis import GIS\n",
    "import os, re, csv"
   ]
  },
  {
   "cell_type": "markdown",
   "id": "c5e2663b",
   "metadata": {},
   "source": [
    "The first step is to define the variables needed to complete this workflow. The required variables are as follows: \n",
    "* **portalURL** - The URL for your ArcGIS organization (e.g. www.arcgis.com)\n",
    "* **username** - Your ArcGIS organization username (e.g. gisadmin)\n",
    "* **password** - You ArcGIS organization password (e.g. gisadmin1)\n",
    "* **survey_item_id** - The item ID for the ArcGIS Survey123 form item in your ArcGIS organization (e.g. 89bc8c7844e548e09baa3aad4695e78b)\n",
    "* **save_path** - The directory where you would like to save the survey results and attachments (e.g. C:\\temp)\n",
    "* **keep_org_item** - By default, an exported item is added to your content in your ArcGIS organization. This Boolean value allows you to choose if you would like to keep the exported item in your content (`True`), or remove it (`False`).\n",
    "* **store_csv_w_attachments** - Boolean value that allows you to choose if the `.csv` file that maps each attachment to its parent object ID should be stored in the root folder (with the exported Excel workbook) (`False`), or in each individual layer folder (`True`)."
   ]
  },
  {
   "cell_type": "code",
   "execution_count": 39,
   "id": "7a83abfd",
   "metadata": {},
   "outputs": [],
   "source": [
    "portalURL = \"https://www.arcgis.com\"\n",
    "username = \"username\"\n",
    "password = \"password\"\n",
    "survey_item_id = \"c0da843348f24012885615cb6d611d8d\"\n",
    "save_path = r\"C:\\temp\\download_with_attachments\"\n",
    "keep_org_item = False\n",
    "store_csv_w_attachments = False"
   ]
  },
  {
   "cell_type": "markdown",
   "id": "858e2abf",
   "metadata": {},
   "source": [
    "A connection is made to your ArcGIS organization and to the survey specified above."
   ]
  },
  {
   "cell_type": "code",
   "execution_count": 40,
   "id": "af31e880",
   "metadata": {},
   "outputs": [],
   "source": [
    "gis = GIS(portalURL, username, password)\n",
    "survey_by_id = gis.content.get(survey_item_id)"
   ]
  },
  {
   "cell_type": "markdown",
   "id": "b81e0758",
   "metadata": {},
   "source": [
    "Next, the data in the survey's feature service is downloaded in XLSX format. "
   ]
  },
  {
   "cell_type": "code",
   "execution_count": 41,
   "id": "ff45f6dd",
   "metadata": {},
   "outputs": [],
   "source": [
    "rel_fs = survey_by_id.related_items('Survey2Service','forward')[0]\n",
    "item_excel = rel_fs.export(title=survey_by_id.title, export_format='Excel')\n",
    "item_excel.download(save_path=save_path)\n",
    "if not bool(keep_org_item):\n",
    "    item_excel.delete(force=True)"
   ]
  },
  {
   "cell_type": "markdown",
   "id": "28e4f763",
   "metadata": {},
   "source": [
    "Now that the data is downloaded, it's time to work with the attachments. Each layer and table in the feature service is looped through, and if the layer or table has attachments a new folder is created using the layer name with `_attachments` appended to it. A new `.csv` file is created, containing the parent object ID and the relative folder path for each attachment in that layer. The `.csv` file is saved to either the directory specified in the `save_path` variable, or in the layers folder, depending on the value of `store_csv_w_attachments`.\n",
    "\n",
    "The layer is then queried to return the object IDs. Each object ID is queried to see if it has attachments. If it does have attachments, these are downloaded to the associated folder and a new entry is written to the `.csv` file. If the object ID does not have attachments, the record is skipped. \n",
    "\n",
    "When the notebook finishes, all exported data and attachments will be contained in the `save_path` folder."
   ]
  },
  {
   "cell_type": "code",
   "execution_count": 42,
   "id": "5b3399ca",
   "metadata": {},
   "outputs": [],
   "source": [
    "layers = rel_fs.layers + rel_fs.tables\n",
    "for i in layers:\n",
    "    if i.properties.hasAttachments == True:\n",
    "        feature_layer_folder = os.path.join(save_path, '{}_attachments'.format(re.sub(r'[^A-Za-z0-9]+', '', i.properties.name)))\n",
    "        os.mkdir(feature_layer_folder)\n",
    "        if bool(store_csv_w_attachments):\n",
    "            path = os.path.join(feature_layer_folder, \"{}_attachments.csv\".format(i.properties.name))\n",
    "        elif not bool(store_csv_w_attachments):\n",
    "            path = os.path.join(save_path, \"{}_attachments.csv\".format(i.properties.name))\n",
    "        csv_fields = ['Parent objectId', 'Attachment path']\n",
    "        with open(path, 'w', newline='') as csvfile:\n",
    "            csvwriter = csv.writer(csvfile)\n",
    "            csvwriter.writerow(csv_fields)\n",
    "            \n",
    "            feature_object_ids = i.query(where=\"1=1\", return_ids_only=True, order_by_fields='objectid ASC')\n",
    "            for j in range(len(feature_object_ids['objectIds'])):\n",
    "                current_oid = feature_object_ids['objectIds'][j]\n",
    "                current_oid_attachments = i.attachments.get_list(oid=current_oid)\n",
    "            \n",
    "                if len(current_oid_attachments) > 0:\n",
    "                    for k in range(len(current_oid_attachments)):\n",
    "                        attachment_id = current_oid_attachments[k]['id']\n",
    "                        current_attachment_path = i.attachments.download(oid=current_oid, attachment_id=attachment_id, save_path=feature_layer_folder)\n",
    "                        csvwriter.writerow([current_oid, os.path.join('{}_attachments'.format(re.sub(r'[^A-Za-z0-9]+', '', i.properties.name)), os.path.split(current_attachment_path[0])[1])])\n",
    "            "
   ]
  }
 ],
 "metadata": {
  "kernelspec": {
   "display_name": "Python 3",
   "language": "python",
   "name": "python3"
  },
  "language_info": {
   "codemirror_mode": {
    "name": "ipython",
    "version": 3
   },
   "file_extension": ".py",
   "mimetype": "text/x-python",
   "name": "python",
   "nbconvert_exporter": "python",
   "pygments_lexer": "ipython3",
   "version": "3.9.11"
  }
 },
 "nbformat": 4,
 "nbformat_minor": 5
}
