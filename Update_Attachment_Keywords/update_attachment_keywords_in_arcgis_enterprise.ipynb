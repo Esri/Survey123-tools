{
 "cells": [
  {
   "cell_type": "markdown",
   "source": [
    "# Update attachment keywords in ArcGIS Enterprise"
   ],
   "metadata": {}
  },
  {
   "cell_type": "markdown",
   "source": [
    "<div class=\"alert alert-block alert-info\">This notebook uses the ArcGIS API for Python. For more information, see the <a href=\"https://developers.arcgis.com/python/\">ArcGIS API for Python documentation and guides</a>.</div>\n",
    "\n",
    "ArcGIS Survey123 uses attachment keywords to associate an attachment in a feature layer with its corresponding image, file, or audio question in a survey. Attachment keywords are supported for hosted feature layers in ArcGIS Online and ArcGIS Enterprise version 10.8.1 and later.\n",
    "\n",
    "As noted in the <a href=\"https://community.esri.com/t5/arcgis-survey123-blog/understanding-survey123-feature-reports/ba-p/897659\" target=\"_blank\">Understanding Survey123 Feature Reports</a> blog post, attachments such as photos, signatures, and annotated images are not supported in reports when using ArcGIS Enterprise version 10.8 or earlier. This is because report templates rely on attachment keywords to place image questions in the report.\n",
    "\n",
    "An issue you may run into after upgrading your ArcGIS Enterprise deployment to 10.8.1 or later is that attachments still do not print in reports. The reason for this is that even though the environment is upgraded, the upgrade process does not automatically associate attachments with Survey123 questions, nor does it automatically enable keywords in the attachment table. \n",
    "\n",
    "The goal of this notebook is to automate the workflow for updating attachment keywords after upgrading to ArcGIS Enterprise version 10.8.1 or later. \n",
    "\n",
    "The script assumes all attachments were captured or uploaded in the Survey123 field app or captured in the Survey123 web app (but not uploaded in the web app).\n",
    "\n",
    "As noted earlier, attachment keywords are not automatically enabled in the attachment table for a hosted feature service in ArcGIS Enterprise or a feature service registered with an enterprise geodatabase. An option to enable keywords is anticipated with ArcGIS Enterprise version 10.9. Until then, a prerequisite to running this notebook is to enable attachment keywords on your feature service manually.\n",
    "\n",
    "To enable attachment keywords on a hosted feature service, do the following:\n",
    "\n",
    "1. Download the hosted feature service as a file geodatabase.\n",
    "1. Open the file geodatabase in ArcGIS Pro.\n",
    "1. Run the <a href=\"https://pro.arcgis.com/en/pro-app/latest/tool-reference/data-management/upgrade-attachments.htm\" target=\"_blank\">Upgrade Attachments</a> geoprocessing tool on all layers in the file geodatabase that contain attachments.\n",
    "1. Overwrite the hosted feature service in your ArcGIS Enterprise portal with the updated file geodatabase.\n",
    "\n",
    "If you are using a feature service that points to an enterprise geodatabase, run the Upgrade Attachments tool on the attachment table directly."
   ],
   "metadata": {}
  },
  {
   "cell_type": "code",
   "execution_count": 1,
   "source": [
    "import logging\r\n",
    "import os\r\n",
    "import re\r\n",
    "import datetime\r\n",
    "import requests\r\n",
    "import tempfile\r\n",
    "from IPython.display import display\r\n",
    "from arcgis.gis import GIS"
   ],
   "outputs": [],
   "metadata": {}
  },
  {
   "cell_type": "markdown",
   "source": [
    "Start by defining your variables. The variables are as follows: \n",
    "\n",
    "* **feature_layer_id** - Item ID for the feature service associated with the survey.\n",
    "* **portal_username** - Organization username.\n",
    "* **portal_password** - Organization password.\n",
    "* **portal_url** - The URL for your organization (e.g. www.arcgis.com for ArcGIS Online).\n",
    "* **multiple_image_questions** - Does your survey have multiple image questions? Accepts `yes` or `no`. `yes` means that your survey contains multiple image questions; `no` means that your survey contains only one image question (this question can use use multiline appearance).\n",
    "* **attachment_keyword** - Only relevant if there is one image question in your survey. The script will prompt for the keyword, otherwise the script will extract the attachment keyword from the photo name if there are multiple image questions. For more information on how to identify the correct attachment keyword(s) for your survey, see the <a href=\"https://support.esri.com/en/technical-article/000024606\" target=\"_blank\">How To: Update the attachment keywords for existing ArcGIS Survey123 data</a> Knowledge Base article."
   ],
   "metadata": {}
  },
  {
   "cell_type": "code",
   "execution_count": 2,
   "source": [
    "# What is the ID of the hosted feature layer associated with your survey?\r\n",
    "feature_layer_id = '<itemID>'\r\n",
    "portal_username = '<OrgUsername>'\r\n",
    "portal_password = '<OrgPassword>'\r\n",
    "portal_url = 'https://<FQDN>/<PortalWebAdaptor>'\r\n",
    "\r\n",
    "# Do you have multiple image questions in your survey?\r\n",
    "# 'yes' means you do have multiple image questions in your survey\r\n",
    "# 'no' means you only have one image question (can use multiline appearance)\r\n",
    "multiple_image_questions = 'yes'\r\n",
    "\r\n",
    "# If one image question, obtain attachment keyword from user else grab it from the attachment name later on\r\n",
    "if multiple_image_questions == \"no\":\r\n",
    "    attachment_keyword = str(input(\"Please enter the attachment keyword to use: \"))\r\n",
    "else:\r\n",
    "    attachment_keyword= ''"
   ],
   "outputs": [],
   "metadata": {}
  },
  {
   "cell_type": "markdown",
   "source": [
    "The next steps are to connect to your GIS, obtain the token for your session, and make a connection to the feature layer."
   ],
   "metadata": {}
  },
  {
   "cell_type": "code",
   "execution_count": 3,
   "source": [
    "# Connect to GIS and get feature layer information\r\n",
    "if portal_username == '' and portal_password == '':\r\n",
    "    gis = GIS(profile='Survey123_prof')\r\n",
    "else:\r\n",
    "    gis = GIS(portal_url, portal_username, portal_password)\r\n",
    "\r\n",
    "token = gis._con.token\r\n",
    "item_object = gis.content.get(feature_layer_id)"
   ],
   "outputs": [],
   "metadata": {}
  },
  {
   "cell_type": "markdown",
   "source": [
    "The `update_attachment()` function is used to update the keyword for each attachment. The arguments for the function are as follows:\r\n",
    "- REST URL of the feature layer\r\n",
    "- Token generated earlier\r\n",
    "- Current object ID\r\n",
    "- File path to local copy of the attachment\r\n",
    "- Attachment ID\r\n",
    "- Keyword to apply to each attachment\r\n",
    "\r\n",
    "Once all arguments are obtained the function constructs the URL using the REST endpoint and current object ID. It then opens the attachment to be used as a file in the POST request. Next, it defines the request parameters with the remaining input arguments and sends the POST request. \r\n",
    "\r\n",
    "The JSON response indicates if the request was successful or not."
   ],
   "metadata": {}
  },
  {
   "cell_type": "code",
   "execution_count": 4,
   "source": [
    "def update_attachment(url, token, oid, attachment, attachID, keyword):\r\n",
    "    att_url = '{}/{}/updateAttachment'.format(url, oid)\r\n",
    "    start, extension = os.path.splitext(attachment)\r\n",
    "\r\n",
    "    jpg_list = ['.jpg', '.jpeg']\r\n",
    "    png_list = ['.png']\r\n",
    "    if extension in jpg_list:\r\n",
    "        files = {'attachment': (os.path.basename(attachment), open(attachment, 'rb'), 'image/jpeg')}\r\n",
    "    elif extension in png_list:\r\n",
    "        files = {'attachment': (os.path.basename(attachment), open(attachment, 'rb'), 'image/png')}\r\n",
    "    else:\r\n",
    "        files = {'attachment': (os.path.basename(attachment), open(attachment, 'rb'), 'application/octect-stream')}\r\n",
    "\r\n",
    "    params = {'token': token,'f': 'json', 'attachmentId': attachID, 'keywords': keyword}\r\n",
    "    r = requests.post(att_url, params, files=files)\r\n",
    "    return r.json()"
   ],
   "outputs": [],
   "metadata": {}
  },
  {
   "cell_type": "markdown",
   "source": [
    "If there are multiple image questions in the survey, the `findattachmentkeyword()` function below is used to obtain the keyword from the name of each attachment. The function takes the attachment name as the input and extracts the text before the hyphen ('-') or underscore ('\\_').\n",
    "\n",
    "By default, attachments captured or uploaded in the Survey123 field app are named using the format `<attachmentKeyword>-<timestamp>`, and attachments captured in the Survey123 web app are named using the format `<attachmentKeyword>_<timestamp>`. The function only accepts attachment names in these two formats. All other names are ignored. There are two cases where the attachment name might not be in an acceptable format:\n",
    "- The name was modified from the default by the user.\n",
    "- The attachment was uploaded in the web app (as opposed to it being captured in the form by camera, signature, and so on). When an attachment is uploaded in the web app it retains the name of the source file."
   ],
   "metadata": {}
  },
  {
   "cell_type": "code",
   "execution_count": 5,
   "source": [
    "def findattachmentkeyword(attach_name):\r\n",
    "    kw = ''\r\n",
    "    # For attachments submitted in the field app\r\n",
    "    if any(\"-\" in s for s in attach_name):\r\n",
    "        part = attach_name.partition(\"-\")\r\n",
    "        kw = part[0]\r\n",
    "    # For attachments submitted in the web app\r\n",
    "    elif any(\"_\" in s for s in attach_name):\r\n",
    "        part = attach_name.partition(\"_\")\r\n",
    "        kw = part[0]\r\n",
    "\r\n",
    "    return kw"
   ],
   "outputs": [],
   "metadata": {}
  },
  {
   "cell_type": "markdown",
   "source": [
    "The function below runs the entire workflow. \n",
    "\n",
    "- First, the function creates a temporary directory to save all the attachments to. \n",
    "- It then proceeds with attachments for all layers and tables in the feature service that have attachments enabled.\n",
    "- For each layer, the function queries the features in the layer and obtains a list of attachments for each object ID. \n",
    "- Each attachment is then downloaded to the temporary directory and is then updated using the `update_attachment()` function, including the attachment keyword either entered above or obtained from the `findattachmentkeyword()` function."
   ],
   "metadata": {}
  },
  {
   "cell_type": "code",
   "execution_count": 6,
   "source": [
    "def update_attachments():\r\n",
    "    with tempfile.TemporaryDirectory() as tmp:\r\n",
    "        tmp_path = tmp\r\n",
    "        for i in range(len(item_object.layers)):\r\n",
    "            layers = []\r\n",
    "            feature_layer = item_object.layers[i]\r\n",
    "            layers.append(feature_layer)\r\n",
    "            tables = item_object.tables[i]\r\n",
    "            layers.append(tables)\r\n",
    "            \r\n",
    "            for layer in layers: \r\n",
    "                url = layer.url\r\n",
    "\r\n",
    "                # Skip layer if attachments are not enabled\r\n",
    "                if layer.properties.hasAttachments == True:\r\n",
    "                    # Remove any characters from feature layer name that may cause problems and ensure it's unique\r\n",
    "                    feature_layer_name = '{}-{}'.format(str(i), re.sub(r'[^A-Za-z0-9]+', '', layer.properties.name))\r\n",
    "                    feature_layer_folder = tmp_path + feature_layer_name\r\n",
    "                \r\n",
    "                    # Query to get list of object IDs in layer\r\n",
    "                    feature_object_ids = layer.query(where='1=1', return_ids_only=True)\r\n",
    "                    for j in range(len(feature_object_ids['objectIds'])):\r\n",
    "                        current_oid = feature_object_ids['objectIds'][j]\r\n",
    "                        current_oid_attachments = layer.attachments.get_list(oid=current_oid)\r\n",
    "\r\n",
    "                        if len(current_oid_attachments) > 0:\r\n",
    "                            for k in range(len(current_oid_attachments)):\r\n",
    "                                attachment_id = current_oid_attachments[k]['id']\r\n",
    "                                attachment_name = current_oid_attachments[k]['name']\r\n",
    "                                current_folder = os.path.join(feature_layer_folder, str(current_oid))\r\n",
    "                                file_name = '{}-{}'.format(attachment_id, attachment_name)\r\n",
    "                                current_attachment_path = layer.attachments.download(oid=current_oid,\r\n",
    "                                                                                          attachment_id=attachment_id,\r\n",
    "                                                                                          save_path=current_folder)\r\n",
    "                                if len(attachment_keyword) > 0:\r\n",
    "                                    request = update_attachment(url, token, current_oid, current_attachment_path[0]\r\n",
    "                                                                , attachment_id, attachment_keyword)\r\n",
    "                                    print(\"Completed updating attachment on feature layer\", feature_layer_name,\"with ID\", str(attachment_id), \"on ObjectID\", str(current_oid), \"\\n\", \"With the response of\", request)\r\n",
    "                                else:\r\n",
    "                                    found_kw = findattachmentkeyword(attachment_name)\r\n",
    "                                    request = update_attachment(url, token, current_oid, current_attachment_path[0]\r\n",
    "                                                            , attachment_id, found_kw)\r\n",
    "                                    print(\"Completed updating attachment on feature layer\", feature_layer_name,\"with ID\", str(attachment_id), \"on ObjectID\", str(current_oid), \"\\n\", \"With the response of\", request)\r\n",
    "                            \r\n",
    "                                os.remove(current_attachment_path[0])\r\n",
    "                                os.rmdir(current_folder)\r\n",
    "                    os.rmdir(feature_layer_folder)\r\n",
    "                            \r\n",
    "\r\n",
    "update = update_attachments()"
   ],
   "outputs": [
    {
     "output_type": "stream",
     "name": "stdout",
     "text": [
      "Completed updating attachment on feature layer 0-AttachmentManholeInspectionMultipleLayers with ID 1 on ObjectID 1 \n",
      " With the response of {'updateAttachmentResult': {'objectId': 1, 'globalId': '{1804AA9F-4270-4575-A006-2A3B3CA2A370}', 'success': True}}\n",
      "Completed updating attachment on feature layer 0-AttachmentManholeInspectionMultipleLayers with ID 2 on ObjectID 2 \n",
      " With the response of {'updateAttachmentResult': {'objectId': 2, 'globalId': '{331182FF-25AC-4B90-9998-632F2DB1EAB8}', 'success': True}}\n",
      "Completed updating attachment on feature layer 0-AttachmentManholeInspectionMultipleLayers with ID 3 on ObjectID 3 \n",
      " With the response of {'updateAttachmentResult': {'objectId': 3, 'globalId': '{84C43A0A-F2B8-4AE5-8A07-1A439DEA6DDF}', 'success': True}}\n",
      "Completed updating attachment on feature layer 0-defects with ID 1 on ObjectID 1 \n",
      " With the response of {'updateAttachmentResult': {'objectId': 1, 'globalId': '{D60DAFD3-B01C-4065-9397-55EBB1137FF9}', 'success': True}}\n",
      "Completed updating attachment on feature layer 0-defects with ID 2 on ObjectID 1 \n",
      " With the response of {'updateAttachmentResult': {'objectId': 2, 'globalId': '{3C94303D-E26F-40BB-A58C-B5A60E460735}', 'success': True}}\n",
      "Completed updating attachment on feature layer 0-defects with ID 3 on ObjectID 1 \n",
      " With the response of {'updateAttachmentResult': {'objectId': 3, 'globalId': '{55FC99FB-86A0-460D-9EA7-904DF1F8CD29}', 'success': True}}\n",
      "Completed updating attachment on feature layer 0-defects with ID 4 on ObjectID 1 \n",
      " With the response of {'updateAttachmentResult': {'objectId': 4, 'globalId': '{53B288BA-78A0-4785-8666-CA7AA9E9BE2C}', 'success': True}}\n",
      "Completed updating attachment on feature layer 0-defects with ID 5 on ObjectID 2 \n",
      " With the response of {'updateAttachmentResult': {'objectId': 5, 'globalId': '{1E2901D2-8F29-4B33-9664-0791CBE584CC}', 'success': True}}\n",
      "Completed updating attachment on feature layer 0-defects with ID 6 on ObjectID 2 \n",
      " With the response of {'updateAttachmentResult': {'objectId': 6, 'globalId': '{3DF38311-0C43-465F-925F-B694A4A0DC4A}', 'success': True}}\n",
      "Completed updating attachment on feature layer 0-defects with ID 7 on ObjectID 2 \n",
      " With the response of {'updateAttachmentResult': {'objectId': 7, 'globalId': '{27944AE4-2FEC-4B96-A2E9-87171A4F06B3}', 'success': True}}\n",
      "Completed updating attachment on feature layer 0-defects with ID 8 on ObjectID 2 \n",
      " With the response of {'updateAttachmentResult': {'objectId': 8, 'globalId': '{4B004255-7CEF-45CD-918F-0AC50B77446A}', 'success': True}}\n",
      "Completed updating attachment on feature layer 0-defects with ID 9 on ObjectID 3 \n",
      " With the response of {'updateAttachmentResult': {'objectId': 9, 'globalId': '{D451D3C9-03A4-4238-8A73-E93197C40A84}', 'success': True}}\n",
      "Completed updating attachment on feature layer 0-defects with ID 10 on ObjectID 3 \n",
      " With the response of {'updateAttachmentResult': {'objectId': 10, 'globalId': '{312D5E72-6E3D-47CD-93C9-43C2E05E0328}', 'success': True}}\n",
      "Completed updating attachment on feature layer 0-defects with ID 11 on ObjectID 3 \n",
      " With the response of {'updateAttachmentResult': {'objectId': 11, 'globalId': '{BC7CA91F-EB10-4A5E-9D99-7AAC77223FF5}', 'success': True}}\n",
      "Completed updating attachment on feature layer 0-defects with ID 12 on ObjectID 3 \n",
      " With the response of {'updateAttachmentResult': {'objectId': 12, 'globalId': '{43DD83EE-C399-4A83-9F1A-29606F73655A}', 'success': True}}\n"
     ]
    }
   ],
   "metadata": {}
  }
 ],
 "metadata": {
  "kernelspec": {
   "display_name": "Python 3",
   "language": "python",
   "name": "python3"
  },
  "language_info": {
   "codemirror_mode": {
    "name": "ipython",
    "version": 3
   },
   "file_extension": ".py",
   "mimetype": "text/x-python",
   "name": "python",
   "nbconvert_exporter": "python",
   "pygments_lexer": "ipython3",
   "version": "3.7.9"
  }
 },
 "nbformat": 4,
 "nbformat_minor": 4
}