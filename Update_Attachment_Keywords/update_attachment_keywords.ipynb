{
 "cells": [
  {
   "attachments": {},
   "cell_type": "markdown",
   "metadata": {},
   "source": [
    "# Update attachment keywords"
   ]
  },
  {
   "cell_type": "markdown",
   "metadata": {},
   "source": [
    "<table class=\"tfo-notebook-buttons\" align=\"right\">\n",
    "  <td>\n",
    "    <a target=\"_blank\" href=\"https://www.arcgis.com/home/item.html?id=a02d62ef8b4e456d86b755b15dfb8204\">Try it live</a>\n",
    "  </td>\n",
    "  <td>\n",
    "    <a target=\"_blank\" href=\"https://github.com/Esri/Survey123-tools/tree/main/Update_Attachment_Keywords\">View source on GitHub</a>\n",
    "  </td>\n",
    "</table>"
   ]
  },
  {
   "cell_type": "markdown",
   "metadata": {},
   "source": [
    "<div class=\"alert alert-block alert-info\">This notebook uses the ArcGIS API for Python. For more information, see the <a href=\"https://developers.arcgis.com/python/\">ArcGIS API for Python documentation and guides</a>.</div>"
   ]
  },
  {
   "attachments": {},
   "cell_type": "markdown",
   "metadata": {},
   "source": [
    "ArcGIS Survey123 uses attachment [keywords](https://doc.arcgis.com/en/survey123/desktop/create-surveys/xlsformmedia.htm#ESRI_SECTION1_4CD206A4C41D486D945716EB546AA856) to associate an attachment in a feature layer with its corresponding image, file, or audio question in a survey. Attachment keywords are supported for hosted feature layers in ArcGIS Online and ArcGIS Enterprise version 10.8.1 and later.\n",
    "\n",
    "There are three main reasons you would need to update the keywords for your feature service attachments: \n",
    "\n",
    "1. You've exported your Survey123 data as a file geodatabase and want to use that data in Survey123 again\n",
    "2. You've authored a feature class, enabled attachments, published as an ArcGIS Server feature service, and started collecting data in Survey123\n",
    "3. You've upgraded your ArcGIS Enterprise organization from a pre-10.8.1 version to a post 10.8.1 version and want to update your existing data to now make use of keywords\n",
    "\n",
    "**Python notebook** to update attachment keywords for existing attachments. \n",
    "\n",
    "The workflow assumes all attachments were captured or uploaded in the Survey123 field app or captured in the Survey123 web app (but not uploaded in the web app). \n",
    "\n",
    "Please refer to the [Keywords caution note](https://doc.arcgis.com/en/survey123/desktop/create-surveys/xlsformmedia.htm#GUID-612BAAFA-69D2-4C27-93D6-7C5A408308C6) in the Media questions Survey123 documentation to determine if keywords are enabled on your feature service. "
   ]
  },
  {
   "cell_type": "code",
   "execution_count": 1,
   "metadata": {},
   "outputs": [],
   "source": [
    "import logging\n",
    "import os\n",
    "import re\n",
    "import datetime\n",
    "import requests\n",
    "import tempfile\n",
    "from IPython.display import display\n",
    "from arcgis.gis import GIS"
   ]
  },
  {
   "cell_type": "markdown",
   "metadata": {},
   "source": [
    "Start by defining your variables. The variables are as follows: \n",
    "\n",
    "* **feature_layer_id** - Item ID for the feature service associated with the survey.\n",
    "* **portal_username** - Organization username.\n",
    "* **portal_password** - Organization password.\n",
    "* **portal_url** - The URL for your organization (e.g. www.arcgis.com for ArcGIS Online).\n",
    "* **multiple_image_questions** - Does your survey have multiple image questions? Accepts `yes` or `no`. `yes` means that your survey contains multiple image questions; `no` means that your survey contains only one image question (this question can use use multiline appearance).\n",
    "* **attachment_keyword** - Only relevant if there is one image question in your survey. The script will prompt for the keyword, otherwise the script will extract the attachment keyword from the photo name if there are multiple image questions. For more information on how to identify the correct attachment keyword(s) for your survey, see the <a href=\"https://support.esri.com/en/technical-article/000024606\" target=\"_blank\">How To: Update the attachment keywords for existing ArcGIS Survey123 data</a> Knowledge Base article."
   ]
  },
  {
   "cell_type": "code",
   "execution_count": 2,
   "metadata": {},
   "outputs": [],
   "source": [
    "# What is the ID of the hosted feature layer associated with your survey?\n",
    "feature_layer_id = '<itemID>'\n",
    "portal_username = '<OrgUsername>'\n",
    "portal_password = '<OrgPassword>'\n",
    "portal_url = 'https://<FQDN>/<PortalWebAdaptor>'\n",
    "\n",
    "# Do you have multiple image questions in your survey?\n",
    "# 'yes' means you do have multiple image questions in your survey\n",
    "# 'no' means you only have one image question (can use multiline appearance)\n",
    "multiple_image_questions = 'yes'\n",
    "\n",
    "# If one image question, obtain attachment keyword from user else grab it from the attachment name later on\n",
    "if multiple_image_questions == \"no\":\n",
    "    attachment_keyword = str(input(\"Please enter the attachment keyword to use: \"))\n",
    "else:\n",
    "    attachment_keyword= ''"
   ]
  },
  {
   "cell_type": "markdown",
   "metadata": {},
   "source": [
    "The next steps are to connect to your GIS, obtain the token for your session, and make a connection to the feature layer."
   ]
  },
  {
   "cell_type": "code",
   "execution_count": 3,
   "metadata": {},
   "outputs": [],
   "source": [
    "# Connect to GIS and get feature layer information\n",
    "if portal_username == '' and portal_password == '':\n",
    "    gis = GIS(profile='Survey123_prof')\n",
    "else:\n",
    "    gis = GIS(portal_url, portal_username, portal_password)\n",
    "\n",
    "token = gis._con.token\n",
    "item_object = gis.content.get(feature_layer_id)"
   ]
  },
  {
   "cell_type": "markdown",
   "metadata": {},
   "source": [
    "The `update_attachment()` function is used to update the keyword for each attachment. The arguments for the function are as follows:\n",
    "- REST URL of the feature layer\n",
    "- Token generated earlier\n",
    "- Current object ID\n",
    "- File path to local copy of the attachment\n",
    "- Attachment ID\n",
    "- Keyword to apply to each attachment\n",
    "\n",
    "Once all arguments are obtained the function constructs the URL using the REST endpoint and current object ID. It then opens the attachment to be used as a file in the POST request. Next, it defines the request parameters with the remaining input arguments and sends the POST request. \n",
    "\n",
    "The JSON response indicates if the request was successful or not."
   ]
  },
  {
   "cell_type": "code",
   "execution_count": 4,
   "metadata": {},
   "outputs": [],
   "source": [
    "def update_attachment(url, token, oid, attachment, attachID, keyword):\n",
    "    att_url = '{}/{}/updateAttachment'.format(url, oid)\n",
    "    start, extension = os.path.splitext(attachment)\n",
    "\n",
    "    jpg_list = ['.jpg', '.jpeg']\n",
    "    png_list = ['.png']\n",
    "    if extension in jpg_list:\n",
    "        files = {'attachment': (os.path.basename(attachment), open(attachment, 'rb'), 'image/jpeg')}\n",
    "    elif extension in png_list:\n",
    "        files = {'attachment': (os.path.basename(attachment), open(attachment, 'rb'), 'image/png')}\n",
    "    else:\n",
    "        files = {'attachment': (os.path.basename(attachment), open(attachment, 'rb'), 'application/octect-stream')}\n",
    "\n",
    "    params = {'token': token,'f': 'json', 'attachmentId': attachID, 'keywords': keyword}\n",
    "    r = requests.post(att_url, params, files=files)\n",
    "    return r.json()"
   ]
  },
  {
   "cell_type": "markdown",
   "metadata": {},
   "source": [
    "If there are multiple image questions in the survey, the `findattachmentkeyword()` function below is used to obtain the keyword from the name of each attachment. The function takes the attachment name as the input and extracts the text before the hyphen ('-') or underscore ('\\_').\n",
    "\n",
    "By default, attachments captured or uploaded in the Survey123 field app are named using the format `<attachmentKeyword>-<timestamp>`, and attachments captured in the Survey123 web app are named using the format `<attachmentKeyword>_<timestamp>`. The function only accepts attachment names in these two formats. All other names are ignored. There are two cases where the attachment name might not be in an acceptable format:\n",
    "- The name was modified from the default by the user.\n",
    "- The attachment was uploaded in the web app (as opposed to it being captured in the form by camera, signature, and so on). When an attachment is uploaded in the web app it retains the name of the source file."
   ]
  },
  {
   "cell_type": "code",
   "execution_count": 5,
   "metadata": {},
   "outputs": [],
   "source": [
    "def findattachmentkeyword(attach_name):\n",
    "    kw = ''\n",
    "    # For attachments submitted in the field app\n",
    "    if any(\"-\" in s for s in attach_name):\n",
    "        part = attach_name.partition(\"-\")\n",
    "        kw = part[0]\n",
    "    # For attachments submitted in the web app\n",
    "    elif any(\"_\" in s for s in attach_name):\n",
    "        part = attach_name.partition(\"_\")\n",
    "        kw = part[0]\n",
    "\n",
    "    return kw"
   ]
  },
  {
   "cell_type": "markdown",
   "metadata": {},
   "source": [
    "The function below runs the entire workflow. \n",
    "\n",
    "- First, the function creates a temporary directory to save all the attachments to. \n",
    "- It then proceeds with attachments for all layers and tables in the feature service that have attachments enabled.\n",
    "- For each layer, the function queries the features in the layer and obtains a list of attachments for each object ID. \n",
    "- Each attachment is then downloaded to the temporary directory and is then updated using the `update_attachment()` function, including the attachment keyword either entered above or obtained from the `findattachmentkeyword()` function."
   ]
  },
  {
   "cell_type": "code",
   "execution_count": 6,
   "metadata": {},
   "outputs": [
    {
     "name": "stdout",
     "output_type": "stream",
     "text": [
      "Completed updating attachment on feature layer 0-AttachmentManholeInspectionMultipleLayers with ID 1 on ObjectID 1 \n",
      " With the response of {'updateAttachmentResult': {'objectId': 1, 'globalId': '{1804AA9F-4270-4575-A006-2A3B3CA2A370}', 'success': True}}\n",
      "Completed updating attachment on feature layer 0-AttachmentManholeInspectionMultipleLayers with ID 2 on ObjectID 2 \n",
      " With the response of {'updateAttachmentResult': {'objectId': 2, 'globalId': '{331182FF-25AC-4B90-9998-632F2DB1EAB8}', 'success': True}}\n",
      "Completed updating attachment on feature layer 0-AttachmentManholeInspectionMultipleLayers with ID 3 on ObjectID 3 \n",
      " With the response of {'updateAttachmentResult': {'objectId': 3, 'globalId': '{84C43A0A-F2B8-4AE5-8A07-1A439DEA6DDF}', 'success': True}}\n",
      "Completed updating attachment on feature layer 0-defects with ID 1 on ObjectID 1 \n",
      " With the response of {'updateAttachmentResult': {'objectId': 1, 'globalId': '{D60DAFD3-B01C-4065-9397-55EBB1137FF9}', 'success': True}}\n",
      "Completed updating attachment on feature layer 0-defects with ID 2 on ObjectID 1 \n",
      " With the response of {'updateAttachmentResult': {'objectId': 2, 'globalId': '{3C94303D-E26F-40BB-A58C-B5A60E460735}', 'success': True}}\n",
      "Completed updating attachment on feature layer 0-defects with ID 3 on ObjectID 1 \n",
      " With the response of {'updateAttachmentResult': {'objectId': 3, 'globalId': '{55FC99FB-86A0-460D-9EA7-904DF1F8CD29}', 'success': True}}\n",
      "Completed updating attachment on feature layer 0-defects with ID 4 on ObjectID 1 \n",
      " With the response of {'updateAttachmentResult': {'objectId': 4, 'globalId': '{53B288BA-78A0-4785-8666-CA7AA9E9BE2C}', 'success': True}}\n",
      "Completed updating attachment on feature layer 0-defects with ID 5 on ObjectID 2 \n",
      " With the response of {'updateAttachmentResult': {'objectId': 5, 'globalId': '{1E2901D2-8F29-4B33-9664-0791CBE584CC}', 'success': True}}\n",
      "Completed updating attachment on feature layer 0-defects with ID 6 on ObjectID 2 \n",
      " With the response of {'updateAttachmentResult': {'objectId': 6, 'globalId': '{3DF38311-0C43-465F-925F-B694A4A0DC4A}', 'success': True}}\n",
      "Completed updating attachment on feature layer 0-defects with ID 7 on ObjectID 2 \n",
      " With the response of {'updateAttachmentResult': {'objectId': 7, 'globalId': '{27944AE4-2FEC-4B96-A2E9-87171A4F06B3}', 'success': True}}\n",
      "Completed updating attachment on feature layer 0-defects with ID 8 on ObjectID 2 \n",
      " With the response of {'updateAttachmentResult': {'objectId': 8, 'globalId': '{4B004255-7CEF-45CD-918F-0AC50B77446A}', 'success': True}}\n",
      "Completed updating attachment on feature layer 0-defects with ID 9 on ObjectID 3 \n",
      " With the response of {'updateAttachmentResult': {'objectId': 9, 'globalId': '{D451D3C9-03A4-4238-8A73-E93197C40A84}', 'success': True}}\n",
      "Completed updating attachment on feature layer 0-defects with ID 10 on ObjectID 3 \n",
      " With the response of {'updateAttachmentResult': {'objectId': 10, 'globalId': '{312D5E72-6E3D-47CD-93C9-43C2E05E0328}', 'success': True}}\n",
      "Completed updating attachment on feature layer 0-defects with ID 11 on ObjectID 3 \n",
      " With the response of {'updateAttachmentResult': {'objectId': 11, 'globalId': '{BC7CA91F-EB10-4A5E-9D99-7AAC77223FF5}', 'success': True}}\n",
      "Completed updating attachment on feature layer 0-defects with ID 12 on ObjectID 3 \n",
      " With the response of {'updateAttachmentResult': {'objectId': 12, 'globalId': '{43DD83EE-C399-4A83-9F1A-29606F73655A}', 'success': True}}\n"
     ]
    }
   ],
   "source": [
    "def update_attachments():\n",
    "    with tempfile.TemporaryDirectory() as tmp:\n",
    "        tmp_path = tmp\n",
    "        layers = item_object.layers + item_object.tables\n",
    "                    \n",
    "        for layer in layers: \n",
    "            url = layer.url\n",
    "            # Skip layer if attachments are not enabled\n",
    "            if layer.properties.hasAttachments == True:\n",
    "                # Remove any characters from feature layer name that may cause problems and ensure it's unique\n",
    "                feature_layer_name = '{}-{}'.format(str(layer.properties['id']), re.sub(r'[^A-Za-z0-9]+', '', layer.properties.name))\n",
    "                feature_layer_folder = tmp_path + feature_layer_name\n",
    "\n",
    "                # Query to get list of object IDs in layer\n",
    "                feature_object_ids = layer.query(where='1=1', return_ids_only=True)\n",
    "                for j in range(len(feature_object_ids['objectIds'])):\n",
    "                    current_oid = feature_object_ids['objectIds'][j]\n",
    "                    current_oid_attachments = layer.attachments.get_list(oid=current_oid)\n",
    "\n",
    "                    if len(current_oid_attachments) > 0:\n",
    "                        for k in range(len(current_oid_attachments)):\n",
    "                            attachment_id = current_oid_attachments[k]['id']\n",
    "                            attachment_name = current_oid_attachments[k]['name']\n",
    "                            current_folder = os.path.join(feature_layer_folder, str(current_oid))\n",
    "                            file_name = '{}-{}'.format(attachment_id, attachment_name)\n",
    "                            current_attachment_path = layer.attachments.download(oid=current_oid,\n",
    "                                                                                      attachment_id=attachment_id,\n",
    "                                                                                      save_path=current_folder)\n",
    "                            if len(attachment_keyword) > 0:\n",
    "                                request = update_attachment(url, token, current_oid, current_attachment_path[0]\n",
    "                                                            , attachment_id, attachment_keyword)\n",
    "                                print(\"Completed updating attachment on feature layer\", feature_layer_name,\"with ID\", str(attachment_id), \"on ObjectID\", str(current_oid), \"\\n\", \"With the response of\", request)\n",
    "                            else:\n",
    "                                found_kw = findattachmentkeyword(attachment_name)\n",
    "                                request = update_attachment(url, token, current_oid, current_attachment_path[0]\n",
    "                                                        , attachment_id, found_kw)\n",
    "                                print(\"Completed updating attachment on feature layer\", feature_layer_name,\"with ID\", str(attachment_id), \"on ObjectID\", str(current_oid), \"\\n\", \"With the response of\", request)\n",
    "\n",
    "                            os.remove(current_attachment_path[0])\n",
    "                            os.rmdir(current_folder)\n",
    "                os.rmdir(feature_layer_folder)\n",
    "                            \n",
    "\n",
    "update = update_attachments()"
   ]
  }
 ],
 "metadata": {
  "esriNotebookRuntime": {
   "notebookRuntimeName": "ArcGIS Notebook Python 3 Standard",
   "notebookRuntimeVersion": "4.0"
  },
  "kernelspec": {
   "display_name": "Python 3",
   "language": "python",
   "name": "python3"
  },
  "language_info": {
   "codemirror_mode": {
    "name": "ipython",
    "version": 3
   },
   "file_extension": ".py",
   "mimetype": "text/x-python",
   "name": "python",
   "nbconvert_exporter": "python",
   "pygments_lexer": "ipython3",
   "version": "3.7.11"
  }
 },
 "nbformat": 4,
 "nbformat_minor": 4
}
