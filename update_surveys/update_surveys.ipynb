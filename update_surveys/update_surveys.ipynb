{
 "cells": [
  {
   "cell_type": "markdown",
   "metadata": {},
   "source": [
    "# Update surveys"
   ]
  },
  {
   "cell_type": "markdown",
   "metadata": {},
   "source": [
    "<div class=\"alert alert-block alert-info\">This notebook uses the ArcGIS API for Python. For more information, see the <a href=\"https://developers.arcgis.com/python/\">ArcGIS API for Python documentation and guides</a>.</div>"
   ]
  },
  {
   "cell_type": "markdown",
   "metadata": {},
   "source": [
    "\n",
    "This notebook demonstrates how to automate updating existing surveys through ArcGIS API for Python. You may want to automate updating your surveys for a variety of reasons. Examples are as follows: \n",
    "\n",
    "- Making schema modifications, such as adding or removing questions, adding repeats, or altering the form structure.\n",
    "- Updating assets used with your form, such as files in the `media` or `scripts` folders.\n",
    "- Updating surveys across organizations; for example, you've implemented new functionality in a survey located in your development environment and now are ready to push those changes to your production survey. \n",
    "\n",
    "The first step is to connect to your GIS."
   ]
  },
  {
   "cell_type": "code",
   "execution_count": null,
   "metadata": {},
   "outputs": [],
   "source": [
    "import arcgis\n",
    "from arcgis.gis import GIS\n",
    "gis = GIS(\"home\")"
   ]
  },
  {
   "cell_type": "markdown",
   "metadata": {},
   "source": [
    "Next, a `SurveyManager` is defined, and the survey to be updated is accessed using the form's item ID. A survey in the Survey Manager is a single instance of a survey that contains the item information and properties and provides access to the underlying survey dataset. For more information on Survey Manager, see the <a href=\"https://developers.arcgis.com/python/api-reference/arcgis.apps.survey123.html#surveymanager\">API Reference for ArcGIS API for Python</a>."
   ]
  },
  {
   "cell_type": "code",
   "execution_count": null,
   "metadata": {},
   "outputs": [],
   "source": [
    "survey_manager = arcgis.apps.survey123.SurveyManager(gis)\n",
    "\n",
    "survey = survey_manager.get(\"1a2bcd.....\")\n",
    "\n",
    "survey"
   ]
  },
  {
   "cell_type": "markdown",
   "metadata": {},
   "source": [
    "Use the `publish()` method to publish changes to the `Survey` object. When updating a survey, the `create_web_map` parameter is ignored; it's only used for the initial publish.\n",
    "\n",
    "To control how the method applies updates to the submission endpoint, use the `schema_changes` parameter. For more information on the `schema_changes` parameter please see the <a href=\"https://developers.arcgis.com/python/api-reference/arcgis.apps.survey123.html#arcgis.apps.survey123.Survey.publish\" target=\"_blank\">ArcGIS API for Python</a> documentation.\n",
    "\n",
    "In this example, the required `xlsform` parameter is set to the path where the XLSForm is located and optional parameters are set: \n",
    "- `media` is set to the path of the folder containing media to be used in the survey, and will add or update assets in the survey's media folder.\n",
    "- `schema_changes` is set to `True` so any form changes are applied that would require a change to the submission endpoint (feature service).  "
   ]
  },
  {
   "cell_type": "code",
   "execution_count": null,
   "metadata": {},
   "outputs": [],
   "source": [
    "publish = survey.publish(\n",
    "    xlsform=r\"C:\\<survey name.xlsx>\",\n",
    "    media=r\"C:\\media\",\n",
    "    schema_changes=True\n",
    ")\n",
    "publish"
   ]
  }
 ],
 "metadata": {
  "esriNotebookRuntime": {
   "notebookRuntimeName": "ArcGIS Notebook Python 3 Standard",
   "notebookRuntimeVersion": "4.0"
  },
  "kernelspec": {
   "display_name": "Python 3",
   "language": "python",
   "name": "python3"
  },
  "language_info": {
   "codemirror_mode": {
    "name": "ipython",
    "version": 3
   },
   "file_extension": ".py",
   "mimetype": "text/x-python",
   "name": "python",
   "nbconvert_exporter": "python",
   "pygments_lexer": "ipython3",
   "version": "3.9.11"
  }
 },
 "nbformat": 4,
 "nbformat_minor": 4
}
