{
 "cells": [
  {
   "cell_type": "markdown",
   "id": "385d2274",
   "metadata": {},
   "source": [
    "# Update CSV item in ArcGIS"
   ]
  },
  {
   "cell_type": "markdown",
   "id": "3fb31343",
   "metadata": {},
   "source": [
    "<table class=\"tfo-notebook-buttons\" align=\"right\">\n",
    "  <td>\n",
    "    <a target=\"_blank\" href=\"https://www.arcgis.com/home/item.html?id=dc69467c3e7243719c9125679bbcee9b\">Try it live</a>\n",
    "  </td>\n",
    "  <td>\n",
    "    <a target=\"_blank\" href=\"https://github.com/Esri/Survey123-tools/tree/main/Update_CSV_Item\">View source on GitHub</a>\n",
    "  </td>\n",
    "</table>"
   ]
  },
  {
   "cell_type": "markdown",
   "id": "207ede87",
   "metadata": {},
   "source": [
    "<div class=\"alert alert-block alert-info\">This notebook uses the ArcGIS API for Python. For more information, see the <a href=\"https://developers.arcgis.com/python/\">ArcGIS API for Python documentation and guides</a>.</div>"
   ]
  },
  {
   "cell_type": "markdown",
   "id": "48cda40d",
   "metadata": {},
   "source": [
    "ArcGIS Survey123 utilizes CSV data in several workflows, including external choice lists, the search() appearance, and pulldata() calculations. When you need to periodically update the CSV content used in a survey, a useful method is to upload the CSV files to your ArcGIS organization and link the CSV items to your survey. Once linked, any updates to the CSV items will automatically pull through to your survey without the need to republish the survey. To learn more about linking items to a survey, see <a href=\"https://doc.arcgis.com/en/survey123/desktop/create-surveys/publishsurvey.htm#ESRI_SECTION1_90818E24DF84492CBA5A35D5F0CC3AAE\" target=\"_blank\">Linked content</a>.\n",
    "\n",
    "This notebook demonstrates how to automate updating a CSV item in your ArcGIS organization.\n",
    "\n",
    "**Note:** It is recommended to run this notebook on your computer in Jupyter Notebook or ArcGIS Pro, as that will provide the best experience when reading locally stored CSV files. If you intend to schedule this notebook in ArcGIS Online or ArcGIS Notebook Server, additional configuration may be required to read CSV files from online file storage, such as Microsoft OneDrive or Google Drive.\n",
    "\n",
    "In `csv_filepaths`, specify the directory path and file name for one or more CSV files, separated by a comma.\n",
    "\n",
    "Specify the username and password for the ArcGIS organizational account that owns the corresponding CSV items in your organization.\n",
    "\n",
    "For more information on connecting to your ArcGIS organization, see <a href=\"https://developers.arcgis.com/python/guide/working-with-different-authentication-schemes/\" target=\"_blank\">Working with different authentication schemes</a>."
   ]
  },
  {
   "cell_type": "code",
   "execution_count": 1,
   "id": "e0a804e2",
   "metadata": {},
   "outputs": [],
   "source": [
    "import os\n",
    "import arcgis\n",
    "from arcgis.gis import GIS\n",
    "\n",
    "csv_filepaths = [r\"<directory>\\employees.csv\", r\"<directory>\\locations.csv\"]\n",
    "gis = GIS(username=\"username\", password=\"password\")"
   ]
  },
  {
   "cell_type": "markdown",
   "id": "bd2cf74e",
   "metadata": {},
   "source": [
    "The CSV files in `csv_filepaths` are looped through, and the name of each CSV file is obtained. The file name is then used to search for the corresponding CSV item in your ArcGIS organization.\n",
    "\n",
    "**Note:** The name of the CSV file stored locally must match the file name of the CSV item in your ArcGIS organization. Ensure that there is only one CSV item in your organization with that name. If there are multiple CSV files with the same name, the incorrect item may be updated.\n",
    "\n",
    "Once the CSV item is found, it is updated with the local version of the CSV file."
   ]
  },
  {
   "cell_type": "code",
   "execution_count": 2,
   "id": "82f4b211",
   "metadata": {},
   "outputs": [
    {
     "name": "stdout",
     "output_type": "stream",
     "text": [
      "True\n"
     ]
    }
   ],
   "source": [
    "for csv_file in csv_filepaths:\n",
    "    csv_name = os.path.splitext(os.path.basename(csv_file))[0]\n",
    "    online_item = gis.content.search(query='title: {}'.format(csv_name), item_type='CSV')[0]\n",
    "    print(online_item.update({}, csv_file))"
   ]
  }
 ],
 "metadata": {
  "kernelspec": {
   "display_name": "Python 3",
   "language": "python",
   "name": "python3"
  },
  "language_info": {
   "codemirror_mode": {
    "name": "ipython",
    "version": 3
   },
   "file_extension": ".py",
   "mimetype": "text/x-python",
   "name": "python",
   "nbconvert_exporter": "python",
   "pygments_lexer": "ipython3",
   "version": "3.7.11"
  }
 },
 "nbformat": 4,
 "nbformat_minor": 5
}
