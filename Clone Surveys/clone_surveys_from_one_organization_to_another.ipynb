{
 "cells": [
  {
   "cell_type": "markdown",
   "metadata": {},
   "source": [
    "# Clone surveys from one organization to another\n",
    "\n"
   ]
  },
  {
   "cell_type": "markdown",
   "metadata": {},
   "source": [
    "### Introduction\n",
    "\n",
    "<div class=\"alert alert-block alert-info\">This notebook uses the ArcGIS API for Python. For more information, see the <a href=\"https://developers.arcgis.com/python/\">ArcGIS API for Python documentation and guides</a>.</div>\n",
    "\n",
    "A common question the Survey123 team has received from organization administrators is, \"What's the best way to clone my surveys from one organization to another?\"\n",
    "\n",
    "There are two common use cases for cloning surveys:\n",
    "1. Create a copy of a survey in another ArcGIS organization. For example, a city's transportation and water departments have different ArcGIS Online organizations and the water department would benefit from having a copy of one of the transportation department's surveys as well as its associated web map and dashboard.\n",
    "2. Clone a survey from a development organization in ArcGIS Enterprise to staging and production organizations.\n",
    "\n",
    "This sample Python notebook demonstrates how to clone surveys and associated content from one organization to another. This workflow can be used to clone surveys from ArcGIS Online to ArcGIS Online, ArcGIS Online to ArcGIS Enterprise, or ArcGIS Enterprise to ArcGIS Enterprise. The direction of cloning does not matter.\n",
    "\n",
    "This notebook demonstrates two cloning methods:\n",
    "* <a href='#related-items'>Clone related items</a>\n",
    "* <a href='#full-folder'>Clone survey folder</a>\n",
    "\n",
    "The foundation of the workflow is the <a href='https://developers.arcgis.com/python/api-reference/arcgis.gis.toc.html#arcgis.gis.ContentManager.clone_items' target=_blank>`clone_items()`</a> method in the ArcGIS API for Python. This is the infrastructure that allows us to clone surveys from a source organization to a target organization. Given the different content and item types, possible ArcGIS Enterprise and ArcGIS Online configurations, security considerations, and item dependencies, the `clone_items()` method aims to produce an exact duplicate of an item that retains all of its functionality.\n",
    "\n",
    "Please note that cloning relies on the sharing model to determine the items a user can clone. If a user can access an item, that user can clone it. However, a user can't create any items in the target organization if they don't have the appropriate privileges to create content. For more information, see <a href='https://doc.arcgis.com/en/arcgis-online/reference/roles.htm#ESRI_SECTION1_4FF9051EFB814C249AB26B0ACFF7C79F' target=_blank>User types, roles, and privileges for ArcGIS Online</a> or <a href='https://enterprise.arcgis.com/en/portal/latest/administer/windows/roles.htm#ESRI_SECTION1_4FF9051EFB814C249AB26B0ACFF7C79F' target=_blank>User types, roles, and privileges for ArcGIS Enterprise</a>.\n",
    "\n",
    "For more information on the `clone_items` method, see the ArcGIS API for Python <a href=\"https://developers.arcgis.com/python/guide/cloning-content/\" target=\"_blank\">Cloning content guide</a> and <a href=\"https://developers.arcgis.com/python/api-reference/arcgis.gis.toc.html?#arcgis.gis.ContentManager.clone_items\" target=\"_blank\">API reference</a>. "
   ]
  },
  {
   "cell_type": "markdown",
   "metadata": {},
   "source": [
    "### Prepare to clone\n",
    "\n",
    "To start, we are going to need two <a href='https://developers.arcgis.com/python/guide/using-the-gis/' target=_blank>GIS</a> connections: one to our \"source\" organization, which is the organization in which the survey and content currently resides that we would like to clone; and another to a \"target\" organization, which is the organization that we would like to clone the survey and content to."
   ]
  },
  {
   "cell_type": "code",
   "execution_count": 1,
   "metadata": {},
   "outputs": [
    {
     "name": "stdout",
     "output_type": "stream",
     "text": [
      "Source GIS: GIS @ https://Survey123ninja.maps.arcgis.com version:8.4 \n",
      "Target GIS: GIS @ https://Survey123.maps.arcgis.com version:8.4\n"
     ]
    }
   ],
   "source": [
    "import arcgis\n",
    "from arcgis.gis import GIS\n",
    "import os\n",
    "\n",
    "# Connect to source and target organizations\n",
    "source = GIS(profile=\"sourceOrg\")\n",
    "target = GIS(profile=\"TargetOrg\")\n",
    "print(\"Source GIS:\", source,\"\\nTarget GIS:\", target)"
   ]
  },
  {
   "cell_type": "markdown",
   "metadata": {},
   "source": [
    "The first example highlights a workflow where you have a few surveys shared to a group that you would like to clone to a different organization. In order to work with your surveys a <a href='https://developers.arcgis.com/python/api-reference/arcgis.apps.survey123.html#arcgis.apps.survey123.SurveyManager' target=_blank>Survey Manager</a> is defined. A survey in the Survey Manager is a single instance of a survey project that contains the item information and properties and provides access to the underlying survey dataset. In this example, four surveys are shared to a group. Using the group ID, a connection is made to the group and a list is created containing all form items in the group."
   ]
  },
  {
   "cell_type": "code",
   "execution_count": 2,
   "metadata": {},
   "outputs": [
    {
     "data": {
      "text/plain": [
       "[<Item title:\"COVID-19 Community Support\" type:Form owner:NinjaGreen>,\n",
       " <Item title:\"COVID-19 Inpatient Screening\" type:Form owner:NinjaGreen>,\n",
       " <Item title:\"COVID-19 Symptoms Check\" type:Form owner:NinjaGreen>,\n",
       " <Item title:\"COVID-19 Testing Request\" type:Form owner:NinjaGreen>]"
      ]
     },
     "execution_count": 2,
     "metadata": {},
     "output_type": "execute_result"
    }
   ],
   "source": [
    "# Get surveys by group ID and then download each format supported\n",
    "survey_manager = arcgis.apps.survey123.SurveyManager(source)\n",
    "group = source.groups.get('0dd43178863545fbb5526278e1bdfc4c')\n",
    "sourceForms = group.search('type:form')['results']\n",
    "sourceForms"
   ]
  },
  {
   "cell_type": "markdown",
   "metadata": {},
   "source": [
    "Now that we have your forms as a list, you are ready to clone the content from the source organization to the target organization. As previously noted, a use case for using the `clone_items()` method is to clone surveys between development, staging, and production organizations. This first example clones the surveys from an existing group (as defined above) located in the source organization to the target organization and shares the cloned surveys to a group with the same name in the target organization."
   ]
  },
  {
   "cell_type": "markdown",
   "metadata": {},
   "source": [
    "<a id='related-items'></a>\n",
    "### Clone related items\n",
    "\n",
    "The code below starts by creating a new group in the target organization using the same title and tags as the existing group in the source organization. Once the surveys are cloned, they will be shared to this newly created group. \n",
    "\n",
    "Each form item in the source group is looped through, obtaining the feature service associated with the survey through the `Survey2Service` relationship, as well as any additional items related to the survey using the `Survey2Data` relationship. This would include any linked content or report templates associated with the survey. All related items are merged into a list to be cloned. For more information on related items in ArcGIS, see <a href='https://developers.arcgis.com/rest/users-groups-and-items/relationship-types.htm' target=_blank>Relationship types</a>. \n",
    "\n",
    "Next, a new folder in the target organization is created based on the survey name, and the items in the list are cloned. Since the `copy_data` parameter is set to \"False\" in the `clone_items()` method, the resulting services created in the target organization will not contain any data. This is ideal when cloning from a development environment to a staging or production environment, as you might not wish to retain any test data.\n",
    "\n",
    "Finally, the form items are shared to the group in the target organization that was defined previously, including the feature service, and tags are added to each item."
   ]
  },
  {
   "cell_type": "code",
   "execution_count": 3,
   "metadata": {},
   "outputs": [
    {
     "name": "stdout",
     "output_type": "stream",
     "text": [
      "Source items: \n",
      "<Item title:\"COVID-19 Community Support\" type:Form owner:NinjaGreen>\n",
      "<Item title:\"COVID-19 Community Support\" type:Feature Layer Collection owner:NinjaGreen>\n",
      "<Item title:\"COVID-19 Community Support Report Template\" type:Microsoft Word owner:NinjaGreen>\n",
      "Result feature count:  0\n",
      "Source items: \n",
      "<Item title:\"COVID-19 Inpatient Screening\" type:Form owner:NinjaGreen>\n",
      "<Item title:\"COVID-19 Inpatient Screening\" type:Feature Layer Collection owner:NinjaGreen>\n",
      "Result feature count:  0\n",
      "Source items: \n",
      "<Item title:\"COVID-19 Symptoms Check\" type:Form owner:NinjaGreen>\n",
      "<Item title:\"COVID-19 Symptoms Check\" type:Feature Layer Collection owner:NinjaGreen>\n",
      "<Item title:\"COVID-19 Symptoms Check Report Template\" type:Microsoft Word owner:NinjaGreen>\n",
      "Result feature count:  0\n",
      "Source items: \n",
      "<Item title:\"COVID-19 Testing Request\" type:Form owner:NinjaGreen>\n",
      "<Item title:\"COVID-19 Testing Request\" type:Feature Layer Collection owner:NinjaGreen>\n",
      "Result feature count:  0\n"
     ]
    }
   ],
   "source": [
    "# Create new group in the target environment\n",
    "shared_group = target.groups.create(title=group.title, tags=group.tags)\n",
    "\n",
    "# Clone source items to the target environment\n",
    "for form_item in sourceForms:\n",
    "\n",
    "    # Obtain the feature service associated with the survey\n",
    "    related_items = form_item.related_items('Survey2Service','forward')\n",
    "    # Obtain the additional items that have a relationship with the survey\n",
    "    additional_items = form_item.related_items('Survey2Data','forward')\n",
    "    all_items = [form_item] + related_items + additional_items\n",
    "    print(\"Source items: \", *all_items, sep=\"\\n\")\n",
    "    \n",
    "    # Create new folder according to survey name \n",
    "    title = form_item.title.replace(\" \", \"_\")\n",
    "    folderName = \"Survey-\" + title\n",
    "    target.content.create_folder(folderName)\n",
    "    \n",
    "    # Clone all items to the new folder in target environment\n",
    "    cloned_items = target.content.clone_items(items=all_items, folder=folderName, copy_data=False)\n",
    "    \n",
    "    # Check the feature count in cloned feature layer. Feature count should 0 because existing data is not copied\n",
    "    print(\"Result feature count: \", cloned_items[0].layers[0].query(where='1=1', return_count_only=True))\n",
    "    \n",
    "    for item in cloned_items:\n",
    "        if item.type == 'Form':\n",
    "            # Share the form item to the group\n",
    "            item.update(item_properties={'tags':'PrdEnv, PythonAPI'})\n",
    "            item.share(groups=shared_group.id)\n",
    "            # Share source feature service to group\n",
    "            source_fs = item.related_items('Survey2Service','forward')[0]\n",
    "            source_fs.update(item_properties={'tags':'PrdEnv, PythonAPI'})\n",
    "            source_fs.share(groups=shared_group.id)\n",
    "        else:\n",
    "            pass"
   ]
  },
  {
   "cell_type": "markdown",
   "metadata": {},
   "source": [
    "As a confidence check, let's query the newly created group and confirm our four surveys have been shared. "
   ]
  },
  {
   "cell_type": "code",
   "execution_count": 4,
   "metadata": {
    "scrolled": true
   },
   "outputs": [
    {
     "name": "stdout",
     "output_type": "stream",
     "text": [
      "Cloned surveys: \n",
      "<Item title:\"COVID-19 Symptoms Check\" type:Form owner:survey123_publisher>\n",
      "<Item title:\"COVID-19 Testing Request\" type:Form owner:survey123_publisher>\n",
      "<Item title:\"COVID-19 Inpatient Screening\" type:Form owner:survey123_publisher>\n",
      "<Item title:\"COVID-19 Community Support\" type:Form owner:survey123_publisher>\n"
     ]
    }
   ],
   "source": [
    "# Check items in the new group in target environment.\n",
    "import time\n",
    "time.sleep(30)\n",
    "targetForms = target.content.search('type:form group:'+shared_group.id)\n",
    "print(\"Cloned surveys: \", *targetForms, sep=\"\\n\")"
   ]
  },
  {
   "cell_type": "markdown",
   "metadata": {},
   "source": [
    "The example above is a useful workflow for cloning surveys between development, staging, and production environments and will only clone items that are linked to the form item, including: report templates, linked web maps, CSVs, and map packages. But what if you would like to clone not only the survey and its related items, but also the survey data that's already been collected? Additionally, what if you have web maps, web apps, or dashboards that use the survey data but aren't linked to the survey?  \n",
    "\n",
    "If those items are stored in the survey's folder, a slightly different method can be used to clone all the content in this folder."
   ]
  },
  {
   "cell_type": "markdown",
   "metadata": {},
   "source": [
    "<a id='full-folder'></a>\n",
    "### Clone survey folder\n",
    "\n",
    "The code below demonstrates connecting to one specific survey in your organization. Using the properties of the survey, the folder ID where the survey resides is assigned to a variable. Next, all the folders in the source organization for the source username are listed. Using list comprehension, the folder in the `full_folder` variable is matched with the folder ID obtained from the survey properties.\n",
    "\n",
    "Once the correct folder has been identified the contents of the folder are listed."
   ]
  },
  {
   "cell_type": "code",
   "execution_count": 5,
   "metadata": {},
   "outputs": [
    {
     "name": "stdout",
     "output_type": "stream",
     "text": [
      "Folder items:\n",
      "<Item title:\"Incident Report\" type:Form owner:NinjaGreen>\n",
      "<Item title:\"Incident Report\" type:Feature Layer Collection owner:NinjaGreen>\n",
      "<Item title:\"Incident Report_fieldworker\" type:Feature Layer Collection owner:NinjaGreen>\n",
      "<Item title:\"Incident Report Webmap\" type:Web Map owner:NinjaGreen>\n",
      "<Item title:\"Incident Report Google Vision\" type:Web Map owner:NinjaGreen>\n",
      "<Item title:\"Incident Report_sampleTemplate\" type:Microsoft Word owner:NinjaGreen>\n",
      "<Item title:\"Incident Report Dashboard\" type:Dashboard owner:NinjaGreen>\n",
      "<Item title:\"Incident Report_stakeholder\" type:Feature Layer Collection owner:NinjaGreen>\n",
      "<Item title:\"Incident Report_sampleTemplate 2.docx\" type:Microsoft Word owner:NinjaGreen>\n"
     ]
    }
   ],
   "source": [
    "source_item_with_data = survey_manager.get(\"65b0ce4cfa2145eb8ce90122e54029e6\")\n",
    "survey_folder = source_item_with_data.properties['ownerFolder']\n",
    "\n",
    "usr = arcgis.gis.User(source,'NinjaGreen')\n",
    "\n",
    "full_folder = usr.folders\n",
    "\n",
    "# Identify the folder associated with the survey\n",
    "fldr = next((f for f in full_folder if f['id'] == survey_folder), 0)\n",
    "\n",
    "#List all the items within that folder to be cloned later on\n",
    "fldr_items = usr.items(folder=fldr)\n",
    "print(\"Folder items:\", *fldr_items, sep=\"\\n\")"
   ]
  },
  {
   "cell_type": "markdown",
   "metadata": {},
   "source": [
    "Now that all items to be cloned  are in a list, a new folder is created in the target organization to store the content. After the folder is created the content is cloned to the target environment. Since the `copy_data` parameter is not defined the default value for the parameter is \"True\", meaning all the underlying data will also be cloned. This means the resulting content in the target organization will be an identical clone of the original data. If you do not wish to retain the source data, setting the `copy_data` parameter to \"False\" will only clone the data schema and architecture to the target organization. The survey, web maps, web apps, dashboards, and other items will be configured as per their original items; the only difference is the feature layer will be empty."
   ]
  },
  {
   "cell_type": "code",
   "execution_count": 6,
   "metadata": {},
   "outputs": [
    {
     "name": "stdout",
     "output_type": "stream",
     "text": [
      "<Item title:\"Incident Report\" type:Feature Layer Collection owner:survey123_publisher>\n",
      "<Item title:\"Incident Report_sampleTemplate\" type:Microsoft Word owner:survey123_publisher>\n",
      "<Item title:\"Incident Report_sampleTemplate 2.docx\" type:Microsoft Word owner:survey123_publisher>\n",
      "<Item title:\"Incident Report_fieldworker\" type:Feature Layer Collection owner:survey123_publisher>\n",
      "<Item title:\"Incident Report Google Vision\" type:Web Map owner:survey123_publisher>\n",
      "<Item title:\"Incident Report_stakeholder\" type:Feature Layer Collection owner:survey123_publisher>\n",
      "<Item title:\"Incident Report\" type:Form owner:survey123_publisher>\n",
      "<Item title:\"Incident Report Webmap\" type:Web Map owner:survey123_publisher>\n",
      "<Item title:\"Incident Report Dashboard\" type:Dashboard owner:survey123_publisher>\n",
      "Result feature count:  111\n"
     ]
    }
   ],
   "source": [
    "# Create a new folder with the same name as the source folder to clone the contents to\n",
    "target.content.create_folder(folder=fldr['title']+\"_Python\")\n",
    "\n",
    "# Clone items to the new folder\n",
    "cloned_items = target.content.clone_items(items=fldr_items, folder=fldr['title']+\"_Python\")\n",
    "print(*cloned_items, sep=\"\\n\")\n",
    "print(\"Result feature count: \", cloned_items[0].layers[0].query(where='1=1', return_count_only=True))"
   ]
  },
  {
   "cell_type": "markdown",
   "metadata": {},
   "source": [
    "This notebook covered two use cases for the `clone_items()` method and is intended to be used as a guide; you can take what's here and incorporate it into your own workflows.\n",
    "\n",
    "What workflows or use cases do you have that we missed? Please let us know your use cases and workflows and we can work on incorporating them into the notebook.\n",
    "\n",
    "Notes on limitations:\n",
    "- Clone fails with non-ASCII characters in service name.\n",
    "- Cloning is limited to 1000 records.\n",
    "- BUG-000136846 - The clone_items() method fails when attempting to clone a public hosted feature layer view hosted by another organization with the error message, \"User does not have permissions to access this service.\"\n",
    "- Spaces in survey names can cause issues when cloning between organizations."
   ]
  }
 ],
 "metadata": {
  "kernelspec": {
   "display_name": "Python 3",
   "language": "python",
   "name": "python3"
  },
  "language_info": {
   "codemirror_mode": {
    "name": "ipython",
    "version": 3
   },
   "file_extension": ".py",
   "mimetype": "text/x-python",
   "name": "python",
   "nbconvert_exporter": "python",
   "pygments_lexer": "ipython3",
   "version": "3.7.9"
  }
 },
 "nbformat": 4,
 "nbformat_minor": 4
}
