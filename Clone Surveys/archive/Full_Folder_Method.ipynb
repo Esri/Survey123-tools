{
 "cells": [
  {
   "cell_type": "code",
   "execution_count": 1,
   "metadata": {},
   "outputs": [],
   "source": [
    "# Documentation link: https://developers.arcgis.com/python/guide/cloning-content/\n",
    "\n",
    "# Connect to GIS: \n",
    "import arcgis\n",
    "from arcgis.gis import GIS\n",
    "survey_form_item_id = '<Item ID of the Form Item>'\n",
    "\n",
    "source_Username = '<Origin Portal Username>'\n",
    "source_Password = '<Origin Portal Password>'\n",
    "\n",
    "target_Username = '<Destination Portal Username>'\n",
    "target_Password = '<Destination Portal Password>'\n",
    "\n",
    "source = GIS(username=source_Username, password=source_Password)\n",
    "target = GIS(username=target_Username, password=target_Password)"
   ]
  },
  {
   "cell_type": "markdown",
   "metadata": {},
   "source": [
    "**Note** if you are using ArcGIS Enterprise with a domain certificate use `verify_cert=False` when making your GIS connection. For more information on additional parameters when making a GIS connection see <a href=\"https://developers.arcgis.com/python/api-reference/arcgis.gis.toc.html#gis\" target=\"_blank\">this documentation</a>, as well as the <a href=\"https://developers.arcgis.com/python/guide/working-with-different-authentication-schemes/\" target=\"_blank\">working with different authentication schemes documentation</a>."
   ]
  },
  {
   "cell_type": "code",
   "execution_count": 2,
   "metadata": {},
   "outputs": [
    {
     "name": "stdout",
     "output_type": "stream",
     "text": [
      "9a386df99f684c9a8a9efa7211e01352\n"
     ]
    }
   ],
   "source": [
    "# Define Survey Manager: \n",
    "survey_manager = arcgis.apps.survey123.SurveyManager(source)\n",
    "\n",
    "# Grab a survey using the Item ID:\n",
    "survey_by_id = survey_manager.get(survey_form_item_id)\n",
    "\n",
    "# Grab the survey properties (for the folder ID): \n",
    "survey_folder = survey_by_id.properties['ownerFolder']\n",
    "print (survey_folder)"
   ]
  },
  {
   "cell_type": "code",
   "execution_count": 3,
   "metadata": {},
   "outputs": [
    {
     "name": "stdout",
     "output_type": "stream",
     "text": [
      "{'username': 'ZSutherby_Survey123', 'id': '9a386df99f684c9a8a9efa7211e01352', 'title': 'Survey-DogsConnect', 'created': 1595270751000}\n",
      "[<Item title:\"DogsConnect\" type:Feature Layer Collection owner:ZSutherby_Survey123>, <Item title:\"DogsConnect\" type:Form owner:ZSutherby_Survey123>, <Item title:\"DogsConnect\" type:Web Map owner:ZSutherby_Survey123>, <Item title:\"DogsConnect_sampleTemplateIndividual\" type:Microsoft Word owner:ZSutherby_Survey123>]\n"
     ]
    }
   ],
   "source": [
    "# Link that was helpful: https://gis.stackexchange.com/questions/306803/how-to-search-the-folders-items-in-arcgis-on-line-using-the-arcgis-api-for-pyth\n",
    "# Identify User Acccount\n",
    "usr = arcgis.gis.User(source,source_Username)\n",
    "\n",
    "full_folder = usr.folders\n",
    "\n",
    "# Identify the folder associated with the survey\n",
    "#print([f for f in full_folder if f['id'] == survey_folder][0])\n",
    "fldr = next((f for f in full_folder if f['id'] == survey_folder), 0)\n",
    "print(fldr)\n",
    "\n",
    "#List all the items within that folder to be cloned later on\n",
    "fldr_items = usr.items(folder=fldr)\n",
    "print (fldr_items)"
   ]
  },
  {
   "cell_type": "code",
   "execution_count": 4,
   "metadata": {},
   "outputs": [
    {
     "data": {
      "text/plain": [
       "[<Item title:\"DogsConnect\" type:Feature Layer Collection owner:portaladmin>,\n",
       " <Item title:\"DogsConnect_sampleTemplateIndividual\" type:Microsoft Word owner:portaladmin>,\n",
       " <Item title:\"DogsConnect\" type:Form owner:portaladmin>,\n",
       " <Item title:\"DogsConnect\" type:Web Map owner:portaladmin>]"
      ]
     },
     "execution_count": 4,
     "metadata": {},
     "output_type": "execute_result"
    }
   ],
   "source": [
    "# Create a new folder with the same name as the source folder to clone the contents to\n",
    "target.content.create_folder(folder=fldr['title'])\n",
    "\n",
    "# Clone items to the new folder\n",
    "cloned_items = target.content.clone_items(items=fldr_items, folder=fldr['title'])\n",
    "cloned_items"
   ]
  },
  {
   "cell_type": "code",
   "execution_count": null,
   "metadata": {},
   "outputs": [],
   "source": []
  }
 ],
 "metadata": {
  "kernelspec": {
   "display_name": "Python 3",
   "language": "python",
   "name": "python3"
  },
  "language_info": {
   "codemirror_mode": {
    "name": "ipython",
    "version": 3
   },
   "file_extension": ".py",
   "mimetype": "text/x-python",
   "name": "python",
   "nbconvert_exporter": "python",
   "pygments_lexer": "ipython3",
   "version": "3.7.9"
  }
 },
 "nbformat": 4,
 "nbformat_minor": 4
}
