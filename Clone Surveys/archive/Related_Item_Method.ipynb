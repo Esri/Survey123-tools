{
 "cells": [
  {
   "cell_type": "code",
   "execution_count": 1,
   "metadata": {},
   "outputs": [],
   "source": [
    "# Documentation link: https://developers.arcgis.com/python/guide/cloning-content/\n",
    "\n",
    "# Connect to GIS: \n",
    "import arcgis\n",
    "from arcgis.gis import GIS\n",
    "\n",
    "survey_form_item_id = '<Item ID of the Form Item>'\n",
    "\n",
    "source_Username = '<Origin Portal Username>'\n",
    "source_Password = '<Origin Portal Password>'\n",
    "\n",
    "target_Username = '<Destination Portal Username>'\n",
    "target_Password = '<Destination Portal Password>'\n",
    "\n",
    "# Existing survey environment (ArcGIS Online or ArcGIS Enterprise Portal)\n",
    "source = GIS(username=source_Username, password=source_Password)\n",
    "\n",
    "# Destination survey environment (ArcGIS Online or ArcGIS Enterprise Portal)\n",
    "target = GIS(username=target_Username, password=target_Password)"
   ]
  },
  {
   "cell_type": "markdown",
   "metadata": {},
   "source": [
    "**Note** if you are using ArcGIS Enterprise with a domain certificate use `verify_cert=False` when making your GIS connection. For more information on additional parameters when making a GIS connection see <a href=\"https://developers.arcgis.com/python/api-reference/arcgis.gis.toc.html#gis\" target=\"_blank\">this documentation</a>, as well as the <a href=\"https://developers.arcgis.com/python/guide/working-with-different-authentication-schemes/\" target=\"_blank\">working with different authentication schemes documentation</a>."
   ]
  },
  {
   "cell_type": "code",
   "execution_count": 2,
   "metadata": {},
   "outputs": [
    {
     "data": {
      "text/plain": [
       "[<Item title:\"DogsConnect\" type:Feature Layer Collection owner:ZSutherby_Survey123>,\n",
       " <Item title:\"DogsConnect\" type:Web Map owner:ZSutherby_Survey123>,\n",
       " <Item title:\"DogsConnect_sampleTemplateIndividual\" type:Microsoft Word owner:ZSutherby_Survey123>,\n",
       " <Item title:\"DogsConnect\" type:Form owner:ZSutherby_Survey123>]"
      ]
     },
     "execution_count": 2,
     "metadata": {},
     "output_type": "execute_result"
    }
   ],
   "source": [
    "# Identify the Form Item\n",
    "form_item = arcgis.gis.Item(source,survey_form_item_id)\n",
    "survey_form = [form_item]\n",
    "\n",
    "# For more information on the related_items function visit: https://developers.arcgis.com/python/api-reference/arcgis.gis.toc.html?#arcgis.gis.Item.related_items\n",
    "# Grab the Feature Service associated with the Survey\n",
    "related_items = form_item.related_items('Survey2Service','forward')\n",
    "\n",
    "# Grab the additional items that have a relationship with the Survey\n",
    "additional_items = form_item.related_items('Survey2Data','forward')\n",
    "\n",
    "# Merge the all related content into the same list\n",
    "all_items = related_items + additional_items + survey_form\n",
    "all_items"
   ]
  },
  {
   "cell_type": "code",
   "execution_count": 3,
   "metadata": {},
   "outputs": [
    {
     "name": "stdout",
     "output_type": "stream",
     "text": [
      "9a386df99f684c9a8a9efa7211e01352\n"
     ]
    }
   ],
   "source": [
    "# Define Survey Manager: \n",
    "survey_manager = arcgis.apps.survey123.SurveyManager(source)\n",
    "\n",
    "# Grab a survey using the Item ID:\n",
    "survey_by_id = survey_manager.get(survey_form_item_id)\n",
    "\n",
    "# Grab the survey properties (for the folder ID): \n",
    "survey_folder = survey_by_id.properties['ownerFolder']\n",
    "print (survey_folder)"
   ]
  },
  {
   "cell_type": "code",
   "execution_count": 4,
   "metadata": {},
   "outputs": [],
   "source": [
    "# Identify User Acccount\n",
    "usr = arcgis.gis.User(source,source_Username)\n",
    "\n",
    "# List all folders owned by the user\n",
    "full_folder = usr.folders\n",
    "\n",
    "# Identify the folder associated with the survey\n",
    "#print([f for f in full_folder if f['id'] == survey_folder][0])\n",
    "fldr = next((f for f in full_folder if f['id'] == survey_folder), 0)"
   ]
  },
  {
   "cell_type": "code",
   "execution_count": 5,
   "metadata": {},
   "outputs": [
    {
     "data": {
      "text/plain": [
       "[<Item title:\"DogsConnect\" type:Feature Layer Collection owner:portaladmin>,\n",
       " <Item title:\"DogsConnect_sampleTemplateIndividual\" type:Microsoft Word owner:portaladmin>,\n",
       " <Item title:\"DogsConnect\" type:Web Map owner:portaladmin>,\n",
       " <Item title:\"DogsConnect\" type:Form owner:portaladmin>]"
      ]
     },
     "execution_count": 5,
     "metadata": {},
     "output_type": "execute_result"
    }
   ],
   "source": [
    "# Create a new folder with the same name as the source folder to clone the contents to\n",
    "target.content.create_folder(folder=fldr['title'])\n",
    "\n",
    "# Clone contents to the new GIS\n",
    "cloned_items = target.content.clone_items(items=all_items, folder=fldr['title'])\n",
    "cloned_items"
   ]
  }
 ],
 "metadata": {
  "kernelspec": {
   "display_name": "Python 3",
   "language": "python",
   "name": "python3"
  },
  "language_info": {
   "codemirror_mode": {
    "name": "ipython",
    "version": 3
   },
   "file_extension": ".py",
   "mimetype": "text/x-python",
   "name": "python",
   "nbconvert_exporter": "python",
   "pygments_lexer": "ipython3",
   "version": "3.6.10"
  }
 },
 "nbformat": 4,
 "nbformat_minor": 4
}
