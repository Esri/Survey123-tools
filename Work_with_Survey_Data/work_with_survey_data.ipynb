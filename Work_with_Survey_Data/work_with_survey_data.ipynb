{
 "cells": [
  {
   "cell_type": "markdown",
   "metadata": {},
   "source": [
    "# Work with survey data"
   ]
  },
  {
   "cell_type": "markdown",
   "metadata": {},
   "source": [
    "<table class=\"tfo-notebook-buttons\" align=\"right\">\n",
    "  <td>\n",
    "    <a target=\"_blank\" href=\"https://survey123.maps.arcgis.com/home/item.html?id=80e7483fc8094b6dafa9e68653f6c7cb\">Try it live</a>\n",
    "  </td>\n",
    "  <td>\n",
    "    <a target=\"_blank\" href=\"https://github.com/Esri/Survey123-tools/tree/main/Work_with_Survey_Data\">View source on GitHub</a>\n",
    "  </td>\n",
    "</table>"
   ]
  },
  {
   "cell_type": "markdown",
   "metadata": {},
   "source": [
    "<div class=\"alert alert-block alert-info\">This notebook uses the ArcGIS API for Python. For more information, see the <a href=\"https://developers.arcgis.com/python/\">ArcGIS API for Python documentation and guides</a>.</div>"
   ]
  },
  {
   "cell_type": "markdown",
   "metadata": {},
   "source": [
    "The ArcGIS API for Python provides an abundance of data analysis and data science workflows that can be deployed to perform a variety of tasks. The ArcGIS Survey123 module provides some foundational resources to get started working with your data.\n",
    "\n",
    "The first step is to connect to your GIS."
   ]
  },
  {
   "cell_type": "code",
   "execution_count": 1,
   "metadata": {},
   "outputs": [],
   "source": [
    "import arcgis\n",
    "from arcgis.gis import GIS\n",
    "gis = GIS(\"home\")"
   ]
  },
  {
   "cell_type": "markdown",
   "metadata": {},
   "source": [
    "Next, a Survey Manager is defined, and a survey is accessed using the form's item ID. A survey in the Survey Manager is a single instance of a survey project that contains the item information and properties and provides access to the underlying survey dataset. For more information on Survey Manager, see the <a href=\"https://developers.arcgis.com/python/api-reference/arcgis.apps.survey123.html#arcgis.apps.survey123.SurveyManager\" target=\"_blank\">API Reference for the ArcGIS API for Python</a>."
   ]
  },
  {
   "cell_type": "code",
   "execution_count": 2,
   "metadata": {},
   "outputs": [
    {
     "name": "stdout",
     "output_type": "stream",
     "text": [
      "<Survey @ Campground Survey>\n"
     ]
    }
   ],
   "source": [
    "survey_manager = arcgis.apps.survey123.SurveyManager(gis)\n",
    "survey_by_id = survey_manager.get(\"9f8e0a1c93454efe949cb3650614f465\")\n",
    "print(survey_by_id)"
   ]
  },
  {
   "cell_type": "markdown",
   "metadata": {},
   "source": [
    "The ArcGIS Survey123 `download` method supports the following formats:\n",
    "\n",
    "* CSV\n",
    "* Shapefile\n",
    "* File Geodatabase\n",
    "* DF (pandas DataFrame)\n",
    "\n",
    "The first three formats export your survey data to a file. Alternatively, you can create a pandas DataFrame directly in your notebook from your survey data.  \n",
    "\n",
    "The sample below defines those formats in a list, which is then iterated through. The data for the survey defined above is downloaded in each format in the list. The `download` method looks for the export format `f` and a folder directory to save the file to. "
   ]
  },
  {
   "cell_type": "code",
   "execution_count": 3,
   "metadata": {},
   "outputs": [
    {
     "name": "stdout",
     "output_type": "stream",
     "text": [
      "/tmp/aa06c4ca3170e432e9d38c5e237ef2076.zip\n",
      "/tmp/a9f981eac293c475587b9bc4a42bbfc4c.zip\n",
      "/tmp/afba38272e7ca4d8384e36a3cdb8311c4.zip\n"
     ]
    }
   ],
   "source": [
    "# Download - file formats\n",
    "dl_formats = ['CSV', 'Shapefile', 'File Geodatabase']\n",
    "for f in dl_formats:\n",
    "    outfile = survey_by_id.download(f, \"/tmp\")\n",
    "    print(outfile)"
   ]
  },
  {
   "cell_type": "markdown",
   "metadata": {},
   "source": [
    "If you plan on continuing to work with your survey results using other ArcGIS API for Python tools, displaying your survey data as a pandas DataFrame directly in the notebook may help visualize your data as you progress. "
   ]
  },
  {
   "cell_type": "code",
   "execution_count": 4,
   "metadata": {},
   "outputs": [
    {
     "data": {
      "text/html": [
       "<div>\n",
       "<style scoped>\n",
       "    .dataframe tbody tr th:only-of-type {\n",
       "        vertical-align: middle;\n",
       "    }\n",
       "\n",
       "    .dataframe tbody tr th {\n",
       "        vertical-align: top;\n",
       "    }\n",
       "\n",
       "    .dataframe thead th {\n",
       "        text-align: right;\n",
       "    }\n",
       "</style>\n",
       "<table border=\"1\" class=\"dataframe\">\n",
       "  <thead>\n",
       "    <tr style=\"text-align: right;\">\n",
       "      <th></th>\n",
       "      <th>objectid</th>\n",
       "      <th>globalid</th>\n",
       "      <th>reporttime</th>\n",
       "      <th>campground</th>\n",
       "      <th>total_campsites</th>\n",
       "      <th>total_equipment_campground</th>\n",
       "      <th>CreationDate</th>\n",
       "      <th>Creator</th>\n",
       "      <th>EditDate</th>\n",
       "      <th>Editor</th>\n",
       "      <th>SHAPE</th>\n",
       "    </tr>\n",
       "  </thead>\n",
       "  <tbody>\n",
       "    <tr>\n",
       "      <th>0</th>\n",
       "      <td>1</td>\n",
       "      <td>d45caefd-7aa8-4577-8f98-7ce387b091f3</td>\n",
       "      <td>2018-07-01 02:23:00</td>\n",
       "      <td>A la minute</td>\n",
       "      <td>1</td>\n",
       "      <td>1.0</td>\n",
       "      <td>2018-07-01 02:25:45.461999893</td>\n",
       "      <td>NinjaMaster</td>\n",
       "      <td>2018-07-10 18:10:11.171999931</td>\n",
       "      <td>NinjaGreen</td>\n",
       "      <td>{\"x\": -117.18188833333332, \"y\": 34.05562666666...</td>\n",
       "    </tr>\n",
       "    <tr>\n",
       "      <th>1</th>\n",
       "      <td>2</td>\n",
       "      <td>91d9a73d-19a9-47be-8fb5-80da2cb4e6a3</td>\n",
       "      <td>2018-07-10 16:33:00</td>\n",
       "      <td>None</td>\n",
       "      <td>1</td>\n",
       "      <td>1.0</td>\n",
       "      <td>2018-07-10 16:34:30.994999886</td>\n",
       "      <td>NinjaGreen</td>\n",
       "      <td>2018-07-10 16:34:30.994999886</td>\n",
       "      <td>NinjaGreen</td>\n",
       "      <td>{\"x\": -117.16731128999994, \"y\": 32.70555832999...</td>\n",
       "    </tr>\n",
       "    <tr>\n",
       "      <th>2</th>\n",
       "      <td>3</td>\n",
       "      <td>988dd421-40c9-4708-9c81-a685c8b04d9e</td>\n",
       "      <td>2018-07-10 19:21:00</td>\n",
       "      <td>Tt55</td>\n",
       "      <td>1</td>\n",
       "      <td>2.0</td>\n",
       "      <td>2018-07-10 19:22:40.822999954</td>\n",
       "      <td>NinjaGreen</td>\n",
       "      <td>2018-07-10 19:22:40.822999954</td>\n",
       "      <td>NinjaGreen</td>\n",
       "      <td>{\"x\": -117.1631311580273, \"y\": 32.707366220594...</td>\n",
       "    </tr>\n",
       "    <tr>\n",
       "      <th>3</th>\n",
       "      <td>4</td>\n",
       "      <td>2802d970-2a8d-44f6-b9fc-bab022bfd81e</td>\n",
       "      <td>2018-07-11 17:30:00</td>\n",
       "      <td>None</td>\n",
       "      <td>0</td>\n",
       "      <td>NaN</td>\n",
       "      <td>2018-07-11 17:30:50.607000113</td>\n",
       "      <td>NinjaGreen</td>\n",
       "      <td>2018-07-11 17:30:50.607000113</td>\n",
       "      <td>NinjaGreen</td>\n",
       "      <td>{\"x\": -117.1620025061552, \"y\": 32.707672144436...</td>\n",
       "    </tr>\n",
       "    <tr>\n",
       "      <th>4</th>\n",
       "      <td>5</td>\n",
       "      <td>8e1cc60e-6d37-4574-8763-035bf7c2676b</td>\n",
       "      <td>2018-07-11 17:32:00</td>\n",
       "      <td>None</td>\n",
       "      <td>1</td>\n",
       "      <td>NaN</td>\n",
       "      <td>2018-07-11 17:33:07.476000071</td>\n",
       "      <td>NinjaGreen</td>\n",
       "      <td>2018-10-17 01:21:27.438999891</td>\n",
       "      <td>NinjaGreen</td>\n",
       "      <td>{\"x\": -117.16196038376653, \"y\": 32.70767375424...</td>\n",
       "    </tr>\n",
       "  </tbody>\n",
       "</table>\n",
       "</div>"
      ],
      "text/plain": [
       "   objectid                              globalid          reporttime  \\\n",
       "0         1  d45caefd-7aa8-4577-8f98-7ce387b091f3 2018-07-01 02:23:00   \n",
       "1         2  91d9a73d-19a9-47be-8fb5-80da2cb4e6a3 2018-07-10 16:33:00   \n",
       "2         3  988dd421-40c9-4708-9c81-a685c8b04d9e 2018-07-10 19:21:00   \n",
       "3         4  2802d970-2a8d-44f6-b9fc-bab022bfd81e 2018-07-11 17:30:00   \n",
       "4         5  8e1cc60e-6d37-4574-8763-035bf7c2676b 2018-07-11 17:32:00   \n",
       "\n",
       "    campground  total_campsites  total_equipment_campground  \\\n",
       "0  A la minute                1                         1.0   \n",
       "1         None                1                         1.0   \n",
       "2         Tt55                1                         2.0   \n",
       "3         None                0                         NaN   \n",
       "4         None                1                         NaN   \n",
       "\n",
       "                   CreationDate      Creator                      EditDate  \\\n",
       "0 2018-07-01 02:25:45.461999893  NinjaMaster 2018-07-10 18:10:11.171999931   \n",
       "1 2018-07-10 16:34:30.994999886   NinjaGreen 2018-07-10 16:34:30.994999886   \n",
       "2 2018-07-10 19:22:40.822999954   NinjaGreen 2018-07-10 19:22:40.822999954   \n",
       "3 2018-07-11 17:30:50.607000113   NinjaGreen 2018-07-11 17:30:50.607000113   \n",
       "4 2018-07-11 17:33:07.476000071   NinjaGreen 2018-10-17 01:21:27.438999891   \n",
       "\n",
       "       Editor                                              SHAPE  \n",
       "0  NinjaGreen  {\"x\": -117.18188833333332, \"y\": 34.05562666666...  \n",
       "1  NinjaGreen  {\"x\": -117.16731128999994, \"y\": 32.70555832999...  \n",
       "2  NinjaGreen  {\"x\": -117.1631311580273, \"y\": 32.707366220594...  \n",
       "3  NinjaGreen  {\"x\": -117.1620025061552, \"y\": 32.707672144436...  \n",
       "4  NinjaGreen  {\"x\": -117.16196038376653, \"y\": 32.70767375424...  "
      ]
     },
     "execution_count": 4,
     "metadata": {},
     "output_type": "execute_result"
    }
   ],
   "source": [
    "# Download - pandas DataFrame\n",
    "import pandas as pd\n",
    "survey_df = survey_by_id.download('DF')\n",
    "survey_df.head()"
   ]
  }
 ],
 "metadata": {
  "esriNotebookRuntime": {
   "notebookRuntimeName": "ArcGIS Notebook Python 3 Standard",
   "notebookRuntimeVersion": "4.0"
  },
  "kernelspec": {
   "display_name": "Python 3",
   "language": "python",
   "name": "python3"
  },
  "language_info": {
   "codemirror_mode": {
    "name": "ipython",
    "version": 3
   },
   "file_extension": ".py",
   "mimetype": "text/x-python",
   "name": "python",
   "nbconvert_exporter": "python",
   "pygments_lexer": "ipython3",
   "version": "3.7.11"
  }
 },
 "nbformat": 4,
 "nbformat_minor": 4
}
